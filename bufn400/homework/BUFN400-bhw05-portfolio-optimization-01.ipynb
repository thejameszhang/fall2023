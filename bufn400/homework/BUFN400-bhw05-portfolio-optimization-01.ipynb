{
 "cells": [
  {
   "cell_type": "markdown",
   "metadata": {
    "jp-MarkdownHeadingCollapsed": true
   },
   "source": [
    "### BUFN400 Fall 2023---University of Maryland \n",
    "\n",
    "# Homework 5: Portfolio Optimization and Predicting Returns with OLS Regressions\n",
    "\n",
    "### By James Zhang \n",
    "\n",
    "### November 27, 2023\n",
    "\n",
    "#### There are probably some typos in in this homework since this is the first time I have used this particular problem set.  Please send me an email if you find typos!!\n"
   ]
  },
  {
   "cell_type": "code",
   "execution_count": 114,
   "metadata": {},
   "outputs": [],
   "source": [
    "import pandas as pd\n",
    "import numpy as np\n",
    "import matplotlib.pyplot as plt\n",
    "import warnings\n",
    "from sklearn.linear_model import LinearRegression\n",
    "import matplotlib.pyplot as plt\n",
    "warnings.filterwarnings(\"ignore\")\n",
    "sp_df = pd.read_csv(\"sp500.csv\")\n",
    "treasury_df = pd.read_csv(\"treasury.csv\")"
   ]
  },
  {
   "cell_type": "markdown",
   "metadata": {},
   "source": [
    "# Problem 0\n",
    "\n",
    "(This problem is almost the same as for Homework 1. You are welcome to cut and paste from that homework.)\n",
    "\n",
    "1. Under \"CRSP\" / \"Annual Update\" / \"Index / Treasury and Inflation\", download \"US Treasury and Inflation Indexes\". Choose the entire time period, monthly data, and \"Both\" (return and level), all variables. Show the number of rows and columns, the names of the columns, and the first few rows of data."
   ]
  },
  {
   "cell_type": "code",
   "execution_count": 115,
   "metadata": {},
   "outputs": [
    {
     "name": "stdout",
     "output_type": "stream",
     "text": [
      "Number of rows: 1165, and number of columns: 21\n",
      "The columns names are ['caldt', 'b30ret', 'b30ind', 'b20ret', 'b20ind', 'b10ret', 'b10ind', 'b7ret', 'b7ind', 'b5ret', 'b5ind', 'b2ret', 'b2ind', 'b1ret', 'b1ind', 't90ret', 't90ind', 't30ret', 't30ind', 'cpiret', 'cpiind']\n"
     ]
    },
    {
     "data": {
      "text/html": [
       "<div>\n",
       "<style scoped>\n",
       "    .dataframe tbody tr th:only-of-type {\n",
       "        vertical-align: middle;\n",
       "    }\n",
       "\n",
       "    .dataframe tbody tr th {\n",
       "        vertical-align: top;\n",
       "    }\n",
       "\n",
       "    .dataframe thead th {\n",
       "        text-align: right;\n",
       "    }\n",
       "</style>\n",
       "<table border=\"1\" class=\"dataframe\">\n",
       "  <thead>\n",
       "    <tr style=\"text-align: right;\">\n",
       "      <th></th>\n",
       "      <th>caldt</th>\n",
       "      <th>b30ret</th>\n",
       "      <th>b30ind</th>\n",
       "      <th>b20ret</th>\n",
       "      <th>b20ind</th>\n",
       "      <th>b10ret</th>\n",
       "      <th>b10ind</th>\n",
       "      <th>b7ret</th>\n",
       "      <th>b7ind</th>\n",
       "      <th>b5ret</th>\n",
       "      <th>...</th>\n",
       "      <th>b2ret</th>\n",
       "      <th>b2ind</th>\n",
       "      <th>b1ret</th>\n",
       "      <th>b1ind</th>\n",
       "      <th>t90ret</th>\n",
       "      <th>t90ind</th>\n",
       "      <th>t30ret</th>\n",
       "      <th>t30ind</th>\n",
       "      <th>cpiret</th>\n",
       "      <th>cpiind</th>\n",
       "    </tr>\n",
       "  </thead>\n",
       "  <tbody>\n",
       "    <tr>\n",
       "      <th>0</th>\n",
       "      <td>1925-12-31</td>\n",
       "      <td>NaN</td>\n",
       "      <td>50.27088</td>\n",
       "      <td>NaN</td>\n",
       "      <td>49.26875</td>\n",
       "      <td>NaN</td>\n",
       "      <td>46.97544</td>\n",
       "      <td>NaN</td>\n",
       "      <td>40.4141</td>\n",
       "      <td>NaN</td>\n",
       "      <td>...</td>\n",
       "      <td>NaN</td>\n",
       "      <td>39.54598</td>\n",
       "      <td>NaN</td>\n",
       "      <td>39.84357</td>\n",
       "      <td>NaN</td>\n",
       "      <td>34.83693</td>\n",
       "      <td>NaN</td>\n",
       "      <td>38.91082</td>\n",
       "      <td>NaN</td>\n",
       "      <td>42.1</td>\n",
       "    </tr>\n",
       "    <tr>\n",
       "      <th>1</th>\n",
       "      <td>1926-01-30</td>\n",
       "      <td>NaN</td>\n",
       "      <td>50.27088</td>\n",
       "      <td>NaN</td>\n",
       "      <td>49.26875</td>\n",
       "      <td>NaN</td>\n",
       "      <td>46.97544</td>\n",
       "      <td>NaN</td>\n",
       "      <td>40.4141</td>\n",
       "      <td>NaN</td>\n",
       "      <td>...</td>\n",
       "      <td>NaN</td>\n",
       "      <td>39.54598</td>\n",
       "      <td>NaN</td>\n",
       "      <td>39.84357</td>\n",
       "      <td>0.004042</td>\n",
       "      <td>34.97774</td>\n",
       "      <td>0.002951</td>\n",
       "      <td>39.02565</td>\n",
       "      <td>0.000000</td>\n",
       "      <td>42.1</td>\n",
       "    </tr>\n",
       "    <tr>\n",
       "      <th>2</th>\n",
       "      <td>1926-02-27</td>\n",
       "      <td>NaN</td>\n",
       "      <td>50.27088</td>\n",
       "      <td>NaN</td>\n",
       "      <td>49.26875</td>\n",
       "      <td>NaN</td>\n",
       "      <td>46.97544</td>\n",
       "      <td>NaN</td>\n",
       "      <td>40.4141</td>\n",
       "      <td>NaN</td>\n",
       "      <td>...</td>\n",
       "      <td>NaN</td>\n",
       "      <td>39.54598</td>\n",
       "      <td>NaN</td>\n",
       "      <td>39.84357</td>\n",
       "      <td>0.003237</td>\n",
       "      <td>35.09096</td>\n",
       "      <td>0.002768</td>\n",
       "      <td>39.13367</td>\n",
       "      <td>0.000000</td>\n",
       "      <td>42.1</td>\n",
       "    </tr>\n",
       "    <tr>\n",
       "      <th>3</th>\n",
       "      <td>1926-03-31</td>\n",
       "      <td>NaN</td>\n",
       "      <td>50.27088</td>\n",
       "      <td>NaN</td>\n",
       "      <td>49.26875</td>\n",
       "      <td>NaN</td>\n",
       "      <td>46.97544</td>\n",
       "      <td>NaN</td>\n",
       "      <td>40.4141</td>\n",
       "      <td>NaN</td>\n",
       "      <td>...</td>\n",
       "      <td>NaN</td>\n",
       "      <td>39.54598</td>\n",
       "      <td>NaN</td>\n",
       "      <td>39.84357</td>\n",
       "      <td>0.002778</td>\n",
       "      <td>35.18843</td>\n",
       "      <td>0.002778</td>\n",
       "      <td>39.24238</td>\n",
       "      <td>-0.005587</td>\n",
       "      <td>41.9</td>\n",
       "    </tr>\n",
       "    <tr>\n",
       "      <th>4</th>\n",
       "      <td>1926-04-30</td>\n",
       "      <td>NaN</td>\n",
       "      <td>50.27088</td>\n",
       "      <td>NaN</td>\n",
       "      <td>49.26875</td>\n",
       "      <td>NaN</td>\n",
       "      <td>46.97544</td>\n",
       "      <td>NaN</td>\n",
       "      <td>40.4141</td>\n",
       "      <td>NaN</td>\n",
       "      <td>...</td>\n",
       "      <td>NaN</td>\n",
       "      <td>39.54598</td>\n",
       "      <td>NaN</td>\n",
       "      <td>39.84357</td>\n",
       "      <td>0.003072</td>\n",
       "      <td>35.29653</td>\n",
       "      <td>0.003072</td>\n",
       "      <td>39.36293</td>\n",
       "      <td>0.005618</td>\n",
       "      <td>42.1</td>\n",
       "    </tr>\n",
       "  </tbody>\n",
       "</table>\n",
       "<p>5 rows × 21 columns</p>\n",
       "</div>"
      ],
      "text/plain": [
       "        caldt  b30ret    b30ind  b20ret    b20ind  b10ret    b10ind  b7ret  \\\n",
       "0  1925-12-31     NaN  50.27088     NaN  49.26875     NaN  46.97544    NaN   \n",
       "1  1926-01-30     NaN  50.27088     NaN  49.26875     NaN  46.97544    NaN   \n",
       "2  1926-02-27     NaN  50.27088     NaN  49.26875     NaN  46.97544    NaN   \n",
       "3  1926-03-31     NaN  50.27088     NaN  49.26875     NaN  46.97544    NaN   \n",
       "4  1926-04-30     NaN  50.27088     NaN  49.26875     NaN  46.97544    NaN   \n",
       "\n",
       "     b7ind  b5ret  ...  b2ret     b2ind  b1ret     b1ind    t90ret    t90ind  \\\n",
       "0  40.4141    NaN  ...    NaN  39.54598    NaN  39.84357       NaN  34.83693   \n",
       "1  40.4141    NaN  ...    NaN  39.54598    NaN  39.84357  0.004042  34.97774   \n",
       "2  40.4141    NaN  ...    NaN  39.54598    NaN  39.84357  0.003237  35.09096   \n",
       "3  40.4141    NaN  ...    NaN  39.54598    NaN  39.84357  0.002778  35.18843   \n",
       "4  40.4141    NaN  ...    NaN  39.54598    NaN  39.84357  0.003072  35.29653   \n",
       "\n",
       "     t30ret    t30ind    cpiret  cpiind  \n",
       "0       NaN  38.91082       NaN    42.1  \n",
       "1  0.002951  39.02565  0.000000    42.1  \n",
       "2  0.002768  39.13367  0.000000    42.1  \n",
       "3  0.002778  39.24238 -0.005587    41.9  \n",
       "4  0.003072  39.36293  0.005618    42.1  \n",
       "\n",
       "[5 rows x 21 columns]"
      ]
     },
     "execution_count": 115,
     "metadata": {},
     "output_type": "execute_result"
    }
   ],
   "source": [
    "print(f\"Number of rows: {treasury_df.shape[0]}, and number of columns: {treasury_df.shape[1]}\")\n",
    "print(f\"The columns names are {[column for column in treasury_df.columns]}\")\n",
    "treasury_df.head()"
   ]
  },
  {
   "cell_type": "markdown",
   "metadata": {},
   "source": [
    "2. Under \"CRSP\" / \"Annual Update\" / Index / S&P 500 Indexes\", download \"CRSP Index File on the S&P 500\". Choose the entire time period, monthly data, and all variables.  Show the number of rows and columns, the names of the columns, and the first few rows of data."
   ]
  },
  {
   "cell_type": "code",
   "execution_count": 116,
   "metadata": {},
   "outputs": [
    {
     "name": "stdout",
     "output_type": "stream",
     "text": [
      "Number of rows: 1165, and number of columns: 11\n",
      "The columns names are ['caldt', 'vwretd', 'vwretx', 'ewretd', 'ewretx', 'totval', 'totcnt', 'usdval', 'usdcnt', 'spindx', 'sprtrn']\n"
     ]
    },
    {
     "data": {
      "text/html": [
       "<div>\n",
       "<style scoped>\n",
       "    .dataframe tbody tr th:only-of-type {\n",
       "        vertical-align: middle;\n",
       "    }\n",
       "\n",
       "    .dataframe tbody tr th {\n",
       "        vertical-align: top;\n",
       "    }\n",
       "\n",
       "    .dataframe thead th {\n",
       "        text-align: right;\n",
       "    }\n",
       "</style>\n",
       "<table border=\"1\" class=\"dataframe\">\n",
       "  <thead>\n",
       "    <tr style=\"text-align: right;\">\n",
       "      <th></th>\n",
       "      <th>caldt</th>\n",
       "      <th>vwretd</th>\n",
       "      <th>vwretx</th>\n",
       "      <th>ewretd</th>\n",
       "      <th>ewretx</th>\n",
       "      <th>totval</th>\n",
       "      <th>totcnt</th>\n",
       "      <th>usdval</th>\n",
       "      <th>usdcnt</th>\n",
       "      <th>spindx</th>\n",
       "      <th>sprtrn</th>\n",
       "    </tr>\n",
       "  </thead>\n",
       "  <tbody>\n",
       "    <tr>\n",
       "      <th>0</th>\n",
       "      <td>1925-12-31</td>\n",
       "      <td>NaN</td>\n",
       "      <td>NaN</td>\n",
       "      <td>NaN</td>\n",
       "      <td>NaN</td>\n",
       "      <td>15236829.5</td>\n",
       "      <td>89</td>\n",
       "      <td>NaN</td>\n",
       "      <td>NaN</td>\n",
       "      <td>12.46</td>\n",
       "      <td>NaN</td>\n",
       "    </tr>\n",
       "    <tr>\n",
       "      <th>1</th>\n",
       "      <td>1926-01-30</td>\n",
       "      <td>-0.001783</td>\n",
       "      <td>-0.003980</td>\n",
       "      <td>0.006457</td>\n",
       "      <td>0.003250</td>\n",
       "      <td>15277664.0</td>\n",
       "      <td>89</td>\n",
       "      <td>15236829.5</td>\n",
       "      <td>79.0</td>\n",
       "      <td>12.74</td>\n",
       "      <td>0.022472</td>\n",
       "    </tr>\n",
       "    <tr>\n",
       "      <th>2</th>\n",
       "      <td>1926-02-27</td>\n",
       "      <td>-0.033296</td>\n",
       "      <td>-0.037876</td>\n",
       "      <td>-0.039979</td>\n",
       "      <td>-0.042451</td>\n",
       "      <td>14712894.9</td>\n",
       "      <td>89</td>\n",
       "      <td>15277664.0</td>\n",
       "      <td>81.0</td>\n",
       "      <td>12.18</td>\n",
       "      <td>-0.043956</td>\n",
       "    </tr>\n",
       "    <tr>\n",
       "      <th>3</th>\n",
       "      <td>1926-03-31</td>\n",
       "      <td>-0.057708</td>\n",
       "      <td>-0.062007</td>\n",
       "      <td>-0.067915</td>\n",
       "      <td>-0.073275</td>\n",
       "      <td>14012079.2</td>\n",
       "      <td>89</td>\n",
       "      <td>14712894.9</td>\n",
       "      <td>81.0</td>\n",
       "      <td>11.46</td>\n",
       "      <td>-0.059113</td>\n",
       "    </tr>\n",
       "    <tr>\n",
       "      <th>4</th>\n",
       "      <td>1926-04-30</td>\n",
       "      <td>0.038522</td>\n",
       "      <td>0.034856</td>\n",
       "      <td>0.031441</td>\n",
       "      <td>0.027121</td>\n",
       "      <td>14500482.2</td>\n",
       "      <td>89</td>\n",
       "      <td>14012079.2</td>\n",
       "      <td>82.0</td>\n",
       "      <td>11.72</td>\n",
       "      <td>0.022688</td>\n",
       "    </tr>\n",
       "  </tbody>\n",
       "</table>\n",
       "</div>"
      ],
      "text/plain": [
       "        caldt    vwretd    vwretx    ewretd    ewretx      totval  totcnt  \\\n",
       "0  1925-12-31       NaN       NaN       NaN       NaN  15236829.5      89   \n",
       "1  1926-01-30 -0.001783 -0.003980  0.006457  0.003250  15277664.0      89   \n",
       "2  1926-02-27 -0.033296 -0.037876 -0.039979 -0.042451  14712894.9      89   \n",
       "3  1926-03-31 -0.057708 -0.062007 -0.067915 -0.073275  14012079.2      89   \n",
       "4  1926-04-30  0.038522  0.034856  0.031441  0.027121  14500482.2      89   \n",
       "\n",
       "       usdval  usdcnt  spindx    sprtrn  \n",
       "0         NaN     NaN   12.46       NaN  \n",
       "1  15236829.5    79.0   12.74  0.022472  \n",
       "2  15277664.0    81.0   12.18 -0.043956  \n",
       "3  14712894.9    81.0   11.46 -0.059113  \n",
       "4  14012079.2    82.0   11.72  0.022688  "
      ]
     },
     "execution_count": 116,
     "metadata": {},
     "output_type": "execute_result"
    }
   ],
   "source": [
    "print(f\"Number of rows: {sp_df.shape[0]}, and number of columns: {sp_df.shape[1]}\")\n",
    "print(f\"The columns names are {[column for column in sp_df.columns]}\")\n",
    "sp_df.head()"
   ]
  },
  {
   "cell_type": "markdown",
   "metadata": {},
   "source": [
    "3. Merge the two monthly datasets by date into one dataset. Show the number of rows and columns, the names of the columns, and the first few rows of data. (Hint: If the dates do not match exactlly in the merge, you might merge by YYYMM instead of YYYMMDD.)\n",
    "\n",
    "* Hint: To merge data, you need a key (date). An example of merging data was covered in the Python bootcamp. When unexpeted issues  arise, the options `how='outer'` and `indicator=True` can be helpful for diagnosing problems. To make dates line up correctly, consider using `pd.tseries.offsets.MonthEnd(...)`.\n"
   ]
  },
  {
   "cell_type": "code",
   "execution_count": 117,
   "metadata": {},
   "outputs": [
    {
     "name": "stdout",
     "output_type": "stream",
     "text": [
      "Number of rows: 1165, and number of columns: 31\n",
      "The columns names are ['caldt', 'vwretd', 'vwretx', 'ewretd', 'ewretx', 'totval', 'totcnt', 'usdval', 'usdcnt', 'spindx', 'sprtrn', 'b30ret', 'b30ind', 'b20ret', 'b20ind', 'b10ret', 'b10ind', 'b7ret', 'b7ind', 'b5ret', 'b5ind', 'b2ret', 'b2ind', 'b1ret', 'b1ind', 't90ret', 't90ind', 't30ret', 't30ind', 'cpiret', 'cpiind']\n"
     ]
    },
    {
     "data": {
      "text/html": [
       "<div>\n",
       "<style scoped>\n",
       "    .dataframe tbody tr th:only-of-type {\n",
       "        vertical-align: middle;\n",
       "    }\n",
       "\n",
       "    .dataframe tbody tr th {\n",
       "        vertical-align: top;\n",
       "    }\n",
       "\n",
       "    .dataframe thead th {\n",
       "        text-align: right;\n",
       "    }\n",
       "</style>\n",
       "<table border=\"1\" class=\"dataframe\">\n",
       "  <thead>\n",
       "    <tr style=\"text-align: right;\">\n",
       "      <th></th>\n",
       "      <th>caldt</th>\n",
       "      <th>vwretd</th>\n",
       "      <th>vwretx</th>\n",
       "      <th>ewretd</th>\n",
       "      <th>ewretx</th>\n",
       "      <th>totval</th>\n",
       "      <th>totcnt</th>\n",
       "      <th>usdval</th>\n",
       "      <th>usdcnt</th>\n",
       "      <th>spindx</th>\n",
       "      <th>...</th>\n",
       "      <th>b2ret</th>\n",
       "      <th>b2ind</th>\n",
       "      <th>b1ret</th>\n",
       "      <th>b1ind</th>\n",
       "      <th>t90ret</th>\n",
       "      <th>t90ind</th>\n",
       "      <th>t30ret</th>\n",
       "      <th>t30ind</th>\n",
       "      <th>cpiret</th>\n",
       "      <th>cpiind</th>\n",
       "    </tr>\n",
       "  </thead>\n",
       "  <tbody>\n",
       "    <tr>\n",
       "      <th>0</th>\n",
       "      <td>1926-01-01</td>\n",
       "      <td>NaN</td>\n",
       "      <td>NaN</td>\n",
       "      <td>NaN</td>\n",
       "      <td>NaN</td>\n",
       "      <td>15236829.5</td>\n",
       "      <td>89</td>\n",
       "      <td>NaN</td>\n",
       "      <td>NaN</td>\n",
       "      <td>12.46</td>\n",
       "      <td>...</td>\n",
       "      <td>NaN</td>\n",
       "      <td>39.54598</td>\n",
       "      <td>NaN</td>\n",
       "      <td>39.84357</td>\n",
       "      <td>NaN</td>\n",
       "      <td>34.83693</td>\n",
       "      <td>NaN</td>\n",
       "      <td>38.91082</td>\n",
       "      <td>NaN</td>\n",
       "      <td>42.1</td>\n",
       "    </tr>\n",
       "    <tr>\n",
       "      <th>1</th>\n",
       "      <td>1926-02-01</td>\n",
       "      <td>-0.001783</td>\n",
       "      <td>-0.003980</td>\n",
       "      <td>0.006457</td>\n",
       "      <td>0.003250</td>\n",
       "      <td>15277664.0</td>\n",
       "      <td>89</td>\n",
       "      <td>15236829.5</td>\n",
       "      <td>79.0</td>\n",
       "      <td>12.74</td>\n",
       "      <td>...</td>\n",
       "      <td>NaN</td>\n",
       "      <td>39.54598</td>\n",
       "      <td>NaN</td>\n",
       "      <td>39.84357</td>\n",
       "      <td>0.004042</td>\n",
       "      <td>34.97774</td>\n",
       "      <td>0.002951</td>\n",
       "      <td>39.02565</td>\n",
       "      <td>0.000000</td>\n",
       "      <td>42.1</td>\n",
       "    </tr>\n",
       "    <tr>\n",
       "      <th>2</th>\n",
       "      <td>1926-03-01</td>\n",
       "      <td>-0.033296</td>\n",
       "      <td>-0.037876</td>\n",
       "      <td>-0.039979</td>\n",
       "      <td>-0.042451</td>\n",
       "      <td>14712894.9</td>\n",
       "      <td>89</td>\n",
       "      <td>15277664.0</td>\n",
       "      <td>81.0</td>\n",
       "      <td>12.18</td>\n",
       "      <td>...</td>\n",
       "      <td>NaN</td>\n",
       "      <td>39.54598</td>\n",
       "      <td>NaN</td>\n",
       "      <td>39.84357</td>\n",
       "      <td>0.003237</td>\n",
       "      <td>35.09096</td>\n",
       "      <td>0.002768</td>\n",
       "      <td>39.13367</td>\n",
       "      <td>0.000000</td>\n",
       "      <td>42.1</td>\n",
       "    </tr>\n",
       "    <tr>\n",
       "      <th>3</th>\n",
       "      <td>1926-04-01</td>\n",
       "      <td>-0.057708</td>\n",
       "      <td>-0.062007</td>\n",
       "      <td>-0.067915</td>\n",
       "      <td>-0.073275</td>\n",
       "      <td>14012079.2</td>\n",
       "      <td>89</td>\n",
       "      <td>14712894.9</td>\n",
       "      <td>81.0</td>\n",
       "      <td>11.46</td>\n",
       "      <td>...</td>\n",
       "      <td>NaN</td>\n",
       "      <td>39.54598</td>\n",
       "      <td>NaN</td>\n",
       "      <td>39.84357</td>\n",
       "      <td>0.002778</td>\n",
       "      <td>35.18843</td>\n",
       "      <td>0.002778</td>\n",
       "      <td>39.24238</td>\n",
       "      <td>-0.005587</td>\n",
       "      <td>41.9</td>\n",
       "    </tr>\n",
       "    <tr>\n",
       "      <th>4</th>\n",
       "      <td>1926-05-01</td>\n",
       "      <td>0.038522</td>\n",
       "      <td>0.034856</td>\n",
       "      <td>0.031441</td>\n",
       "      <td>0.027121</td>\n",
       "      <td>14500482.2</td>\n",
       "      <td>89</td>\n",
       "      <td>14012079.2</td>\n",
       "      <td>82.0</td>\n",
       "      <td>11.72</td>\n",
       "      <td>...</td>\n",
       "      <td>NaN</td>\n",
       "      <td>39.54598</td>\n",
       "      <td>NaN</td>\n",
       "      <td>39.84357</td>\n",
       "      <td>0.003072</td>\n",
       "      <td>35.29653</td>\n",
       "      <td>0.003072</td>\n",
       "      <td>39.36293</td>\n",
       "      <td>0.005618</td>\n",
       "      <td>42.1</td>\n",
       "    </tr>\n",
       "  </tbody>\n",
       "</table>\n",
       "<p>5 rows × 31 columns</p>\n",
       "</div>"
      ],
      "text/plain": [
       "       caldt    vwretd    vwretx    ewretd    ewretx      totval  totcnt  \\\n",
       "0 1926-01-01       NaN       NaN       NaN       NaN  15236829.5      89   \n",
       "1 1926-02-01 -0.001783 -0.003980  0.006457  0.003250  15277664.0      89   \n",
       "2 1926-03-01 -0.033296 -0.037876 -0.039979 -0.042451  14712894.9      89   \n",
       "3 1926-04-01 -0.057708 -0.062007 -0.067915 -0.073275  14012079.2      89   \n",
       "4 1926-05-01  0.038522  0.034856  0.031441  0.027121  14500482.2      89   \n",
       "\n",
       "       usdval  usdcnt  spindx  ...  b2ret     b2ind  b1ret     b1ind  \\\n",
       "0         NaN     NaN   12.46  ...    NaN  39.54598    NaN  39.84357   \n",
       "1  15236829.5    79.0   12.74  ...    NaN  39.54598    NaN  39.84357   \n",
       "2  15277664.0    81.0   12.18  ...    NaN  39.54598    NaN  39.84357   \n",
       "3  14712894.9    81.0   11.46  ...    NaN  39.54598    NaN  39.84357   \n",
       "4  14012079.2    82.0   11.72  ...    NaN  39.54598    NaN  39.84357   \n",
       "\n",
       "     t90ret    t90ind    t30ret    t30ind    cpiret  cpiind  \n",
       "0       NaN  34.83693       NaN  38.91082       NaN    42.1  \n",
       "1  0.004042  34.97774  0.002951  39.02565  0.000000    42.1  \n",
       "2  0.003237  35.09096  0.002768  39.13367  0.000000    42.1  \n",
       "3  0.002778  35.18843  0.002778  39.24238 -0.005587    41.9  \n",
       "4  0.003072  35.29653  0.003072  39.36293  0.005618    42.1  \n",
       "\n",
       "[5 rows x 31 columns]"
      ]
     },
     "execution_count": 117,
     "metadata": {},
     "output_type": "execute_result"
    }
   ],
   "source": [
    "# Convert 'caldt' to datetime in both dataframes\n",
    "sp_df['caldt'] = pd.to_datetime(sp_df['caldt']) + pd.tseries.offsets.MonthBegin()\n",
    "treasury_df['caldt'] = pd.to_datetime(treasury_df['caldt']) + pd.tseries.offsets.MonthBegin()\n",
    "df = pd.merge(sp_df, treasury_df, on='caldt', how='outer')\n",
    "print(f\"Number of rows: {df.shape[0]}, and number of columns: {df.shape[1]}\")\n",
    "print(f\"The columns names are {[column for column in df.columns]}\")\n",
    "df.head()"
   ]
  },
  {
   "cell_type": "markdown",
   "metadata": {},
   "source": [
    "# Problem 1\n",
    "\n",
    "Consider the problem of forming an optimal portfolio consisting of various sets of assets. Suppose the investor has log utility. Use the sample means, variances, and covariances to form estimates of the \"true\" means and variance. Under the assumption that the sample means, variances, and covariance are the best estimates of the \"true\" means, variances, and covariances, calculate optimal portfolio weights for the various assets as a fraction of invested wealth. Also calculate the \"certainty equivalent\" value of the opportunity to invest in these assets.  Perform the calculations for for the following sets of assets:\n",
    "\n",
    "### Solution\n",
    "\n",
    "1. T-bills and the value-weighted SP500.\n",
    "\n",
    "Here, we have treasury bills, a riskless asset, and the value-weighted SP500, which is a risky asset. We have previously proves in class that log utility investors choose the growth-optimal portfolio, which maximizes internal rate of return, in this situation.\n",
    "$$x = \\frac{\\pi}{\\sigma^2}$$"
   ]
  },
  {
   "cell_type": "code",
   "execution_count": 118,
   "metadata": {},
   "outputs": [],
   "source": [
    "def growth_optimal_portfolio(risk_free_asset: pd.Series, risky_asset: pd.Series):\n",
    "    \"\"\"\n",
    "    Helper function that calculates growth optimal allocation in the risky asset and \n",
    "    certainty equivalent\n",
    "    \"\"\"\n",
    "    # Calculate risk free, risk premium, annual variance\n",
    "    rf = risk_free_asset.mean()\n",
    "    pi = (risky_asset - risk_free_asset).mean()\n",
    "    annual_variance = risky_asset.var()\n",
    "    x = pi / annual_variance\n",
    "    certainty_equivalent = rf + x * pi\n",
    "    return x, certainty_equivalent"
   ]
  },
  {
   "cell_type": "code",
   "execution_count": 119,
   "metadata": {},
   "outputs": [
    {
     "name": "stdout",
     "output_type": "stream",
     "text": [
      "Optimal weights: equal=1.2399, T-bills=-0.2399\n",
      "Certainty equivalent = 0.007179162810353686\n"
     ]
    }
   ],
   "source": [
    "\"\"\"\n",
    "1. T-bills and value-weighted SP500\n",
    "\"\"\"\n",
    "x, certainty_equivalent = growth_optimal_portfolio(df[\"t30ret\"], df[\"vwretx\"])\n",
    "print(f\"Optimal weights: equal={round(x, 4)}, T-bills={round(1-x, 4)}\")\n",
    "print(f\"Certainty equivalent = {certainty_equivalent}\")"
   ]
  },
  {
   "cell_type": "markdown",
   "metadata": {},
   "source": [
    "2. T-bills and equally-weighted SP500.\n",
    "\n",
    "This example is very similar to the one above."
   ]
  },
  {
   "cell_type": "code",
   "execution_count": 120,
   "metadata": {},
   "outputs": [
    {
     "name": "stdout",
     "output_type": "stream",
     "text": [
      "Optimal weights: equal=1.2817, T-bills=-0.2817\n",
      "Certainty equivalent = 0.010074896048313105\n"
     ]
    }
   ],
   "source": [
    "\"\"\"\n",
    "2. T-bills and equally-weighted SP500\n",
    "\"\"\"\n",
    "(x), certainty_equivalent = growth_optimal_portfolio(df[\"t30ret\"], df[\"ewretx\"])\n",
    "print(f\"Optimal weights: equal={round(x, 4)}, T-bills={round(1-x, 4)}\")\n",
    "print(f\"Certainty equivalent = {certainty_equivalent}\")"
   ]
  },
  {
   "cell_type": "markdown",
   "metadata": {},
   "source": [
    "3. T-bills, the value-weighted SP500, and the equally-weighted SP500.\n",
    "\n"
   ]
  },
  {
   "cell_type": "code",
   "execution_count": 121,
   "metadata": {},
   "outputs": [],
   "source": [
    "def two_risky_assets(risk_free: pd.Series, asset: pd.Series, market: pd.Series):\n",
    "    rf = risk_free.mean() * 12\n",
    "    pi_a = (asset - risk_free).mean()\n",
    "    pi_m = (market - risk_free).mean()\n",
    "    # Let asset be some asset and let market be the \"market index\"\n",
    "    # Drop nans in case we don't have data for either of the assets\n",
    "    df = pd.DataFrame({\"asset\": asset, \"market\": market}).dropna()\n",
    "    asset, market = df[\"asset\"], df[\"market\"]\n",
    "    # Finding alpha, beta, and variances\n",
    "    r_a, r_m = asset.mean(), market.mean()\n",
    "    cov_matrix = np.cov(asset, market)\n",
    "    beta_a = cov_matrix[0][1] / cov_matrix[1][1]\n",
    "    alpha_a = r_a - rf - beta_a * (r_m - rf)\n",
    "    var_a, var_m = asset.var(), market.var()\n",
    "    # Finding optimal weights\n",
    "    x_a = alpha_a / var_a\n",
    "    x_m = (pi_m / var_m) - beta_a * x_a    \n",
    "    certainty_equivalent = rf + x_a * (alpha_a + beta_a * pi_a) + x_m * pi_m\n",
    "    return (x_a, x_m, - 1 * (x_a + x_m - 1)), certainty_equivalent"
   ]
  },
  {
   "cell_type": "code",
   "execution_count": 122,
   "metadata": {},
   "outputs": [
    {
     "name": "stdout",
     "output_type": "stream",
     "text": [
      "Note that we are not leveraged: 1.0\n",
      "Optimal weights: equal-weighted SP=1.5208, value-weighted SP=-0.5621, T-bills=0.0413\n",
      "Certainty equivalent = 0.05069628902747408\n"
     ]
    }
   ],
   "source": [
    "\"\"\"\n",
    "3. T-bills, the value-weighted SP500, and the equally-weighted SP500.\n",
    "\"\"\"\n",
    "weights, certainty_equivalent = two_risky_assets(df[\"t30ret\"], df[\"ewretx\"], df[\"vwretx\"])\n",
    "(x_a, x_m, x_f) = weights\n",
    "print(f\"Note that we are not leveraged: {sum(weights)}\")\n",
    "# Printing out weights and expected portfolio returns\n",
    "print(f\"Optimal weights: equal-weighted SP={round(x_a, 4)}, value-weighted SP={round(x_m, 4)}, T-bills={round(x_f, 4)}\")\n",
    "print(f\"Certainty equivalent = {certainty_equivalent}\")"
   ]
  },
  {
   "cell_type": "markdown",
   "metadata": {},
   "source": [
    "4. T-bills, the value-weighted SP500, and UST 10-year notes."
   ]
  },
  {
   "cell_type": "code",
   "execution_count": 123,
   "metadata": {},
   "outputs": [
    {
     "name": "stdout",
     "output_type": "stream",
     "text": [
      "Note that we are not leveraged: 1.0\n",
      "Optimal weights: 10Y Note=-67.3953, Value-Weighted SP500=4.8821, T-bills=63.5132\n",
      "Certainty equivalent = 1.8416190146986566\n"
     ]
    }
   ],
   "source": [
    "\"\"\"\n",
    "4. T-bills, the value-weighted SP500, and the UST 10-year notes\n",
    "\"\"\"\n",
    "weights, certainty_equivalent = two_risky_assets(df[\"t30ret\"], df[\"b10ret\"], df[\"vwretx\"])\n",
    "(x_a, x_m, x_f) = weights\n",
    "print(f\"Note that we are not leveraged: {sum(weights)}\")\n",
    "# Printing out weights and expected portfolio returns\n",
    "print(f\"Optimal weights: 10Y Note={round(x_a, 4)}, Value-Weighted SP500={round(x_m, 4)}, T-bills={round(x_f, 4)}\")\n",
    "print(f\"Certainty equivalent = {certainty_equivalent}\")"
   ]
  },
  {
   "cell_type": "markdown",
   "metadata": {},
   "source": [
    "5. T-bills, the value-weighted SP500, the equally-weighted SP500, and UST 10-year notes."
   ]
  },
  {
   "cell_type": "code",
   "execution_count": 124,
   "metadata": {},
   "outputs": [],
   "source": [
    "def fsolve_svd(pi, sigma, rtol=1e-15, num_polish=1):\n",
    "    u, s, vt = np.linalg.svd(sigma, full_matrices=False, hermitian=True)\n",
    "    sinv = np.where(s > rtol, 1.00 / s, 0.00)\n",
    "    x = vt.T @ (sinv * (u.T @ pi))\n",
    "    # Polish solution:\n",
    "    for _ in range(num_polish):\n",
    "        x = x + vt.T @ (sinv * (u.T @ (pi - sigma @ x)))\n",
    "    return x\n",
    "\n",
    "def many_risky_assets(risk_free, assets: pd.DataFrame):\n",
    "    N = len(assets)\n",
    "    R, rf = assets.mean() * 12, risk_free.mean() * 12\n",
    "    pi = R - rf\n",
    "    sigma = np.cov(assets.dropna().T)\n",
    "    x = fsolve_svd(pi, sigma, rtol=1e-14, num_polish=2)\n",
    "    certainty_equivalent = rf + np.transpose(R - rf) @ x\n",
    "    return x, certainty_equivalent"
   ]
  },
  {
   "cell_type": "code",
   "execution_count": 125,
   "metadata": {},
   "outputs": [
    {
     "name": "stdout",
     "output_type": "stream",
     "text": [
      "Note that we are not leveraged: 0.9999999999999929\n",
      "Optimal weights: T-bills=-58.521054177093454, value=-68.73849690737207, equal=84.36570747085986, 10Y note=43.89384361360566\n",
      "Certainty equivalent = 3.537930598202673\n"
     ]
    }
   ],
   "source": [
    "\"\"\"\n",
    "4. T-bills, the value-weighted SP500, equally-weighted SP500 and the UST 10-year notes\n",
    "\"\"\"\n",
    "rf = df[\"t30ret\"].mean()\n",
    "weights, certainty_equivalent = many_risky_assets(df[\"t30ret\"], df[[\"vwretx\", \"ewretx\", \"b10ret\"]])\n",
    "weights = list(weights)\n",
    "weights.insert(0, 1 - sum(weights))\n",
    "print(f\"Note that we are not leveraged: {sum(weights)}\")\n",
    "# Printing out weights and expected portfolio returns\n",
    "print(f\"Optimal weights: T-bills={weights[0]}, value={weights[1]}, equal={weights[2]}, 10Y note={weights[3]}\")\n",
    "print(f\"Certainty equivalent = {certainty_equivalent + weights[0] * rf}\")"
   ]
  },
  {
   "cell_type": "markdown",
   "metadata": {},
   "source": [
    "# Problem 2\n",
    "\n",
    "1. Consider a linear regression of the excess return of the equally-weighted index on the excess return of the value-weighted index using the 30-day T-bill return as the risk-free rate: \n",
    "$$\n",
    "R_t^{\\text{ewretd}} - R_t^{\\text{t30}} = \\alpha + \\beta \\cdot (R_t^{\\text{vwretd}} - R_t^{\\text{t30}}) + \\epsilon .\n",
    "$$\n",
    "For a training dataset consisting of the first half of the data, calculate estimates of $\\alpha$ and $\\beta$ using OLS. Also calculate estimates of the means and variances of the two excess returns and the variance of the residuals. Construct a scatter plot of the two excess returns and show the fitted regression line on the same plot.  "
   ]
  },
  {
   "cell_type": "code",
   "execution_count": 126,
   "metadata": {},
   "outputs": [
    {
     "name": "stdout",
     "output_type": "stream",
     "text": [
      "Estimates of alpha = 0.0003215330192830636, beta = 1.1094286916133282\n",
      "Estimates for value weighted excess returns are mean = 0.008135632390745502 and variance = 0.001421472592078231\n",
      "Estimates for equal weighted excess returns are mean = 0.00934743701799486 and variance = 0.0020232498616959047\n",
      "Estimates for the variance of the residuals = 0.00027365587729070583\n"
     ]
    },
    {
     "data": {
      "image/png": "[encoded data removed]",
      "text/plain": [
       "<Figure size 640x480 with 1 Axes>"
      ]
     },
     "metadata": {},
     "output_type": "display_data"
    }
   ],
   "source": [
    "# Using Linear Regression model from Sklearn\n",
    "training = df.iloc[:int(len(df) / 2)].dropna()\n",
    "testing = df.iloc[int(len(df) / 2):].dropna()\n",
    "X = np.array(training[\"vwretd\"] - training[\"t30ret\"]).reshape(-1, 1)\n",
    "y = np.array(training[\"ewretd\"] - training[\"t30ret\"]).reshape(-1, 1)\n",
    "model = LinearRegression().fit(X, y)\n",
    "beta = model.coef_[0][0]\n",
    "alpha = model.intercept_[0]\n",
    "residuals = y - model.predict(X)\n",
    "\n",
    "# Printing out estimates for the model\n",
    "print(f\"Estimates of alpha = {alpha}, beta = {beta}\")\n",
    "print(f\"Estimates for value weighted excess returns are mean = {X.mean()} and variance = {X.var()}\")\n",
    "print(f\"Estimates for equal weighted excess returns are mean = {y.mean()} and variance = {y.var()}\")\n",
    "print(f\"Estimates for the variance of the residuals = {residuals.var()}\")\n",
    "\n",
    "# Calculate predicted values\n",
    "predicted = model.predict(X)\n",
    "\n",
    "# Create scatter plot\n",
    "plt.scatter(X, y, color='blue', label='Data points')\n",
    "plt.plot(X, predicted, color='red', label='Fitted line')\n",
    "\n",
    "# Add labels and title\n",
    "plt.xlabel('vwretd - t30ret')\n",
    "plt.ylabel('ewretd - t30ret')\n",
    "plt.title('Scatter Plot of Excess Returns with Fitted Regression Line')\n",
    "plt.legend()\n",
    "\n",
    "# Show the plot\n",
    "plt.show()\n"
   ]
  },
  {
   "cell_type": "markdown",
   "metadata": {},
   "source": [
    "2. Calculate the approximately optimal portfolio and the Sharpe ratio for a hypothetical log-utility investor who uses the estimated regression coefficients, means, and variances as if they were the correct theoretical coefficients and variances.  Explain why the Sharpe ratio is likely to be a biased estimate of more realistic portfolio performance."
   ]
  },
  {
   "cell_type": "code",
   "execution_count": 127,
   "metadata": {},
   "outputs": [],
   "source": [
    "def two_risky_assets_linear_regression(risk_free: pd.Series, asset: pd.Series, market: pd.Series, training: bool):\n",
    "    rf = risk_free.mean()\n",
    "    pi_a, pi_m = (asset - risk_free).mean(), (market - risk_free).mean()\n",
    "    asset_var, market_var = asset.var(), market.var()\n",
    "    # Let asset be some asset and let market be the \"market index\"\n",
    "    # Drop nans in case we don't have data for either of the assets\n",
    "    df = pd.DataFrame({\"asset\": asset, \"market\": market}).dropna()\n",
    "    asset, market = df[\"asset\"], df[\"market\"]\n",
    "    # Calculate estimates of variances, alphas, betas\n",
    "    X = np.array(asset - risk_free).reshape(-1, 1)\n",
    "    y = np.array(market - risk_free).reshape(-1, 1)\n",
    "    model = LinearRegression().fit(X, y)\n",
    "    beta_a = model.coef_[0][0]\n",
    "    alpha_a = model.intercept_[0] if training else model.intercept_[0] / 2\n",
    "    # Finding optimal weights\n",
    "    x_a = alpha_a / asset_var\n",
    "    x_m = (pi_m / market_var) - beta_a * x_a    \n",
    "    mean = rf + x_a * (alpha_a + beta_a * pi_a) + x_m * pi_m\n",
    "    var = ((beta_a * x_a + x_m) ** 2) * market_var + (x_a ** 2 * asset_var)\n",
    "    return x_a, x_m, 1 - x_a - x_m, mean, var"
   ]
  },
  {
   "cell_type": "code",
   "execution_count": 128,
   "metadata": {},
   "outputs": [
    {
     "name": "stdout",
     "output_type": "stream",
     "text": [
      "Note that we are not leveraged: 1.0\n",
      "Optimal weights: equal-weighted SP=0.4249, value-weighted SP=5.4808, T-bills=-4.9057\n",
      "Portfolio expected excess return = 0.039535986225029046, standard deviation = 0.21827705705760328\n",
      "Portfolio sharpe ratio = 0.1711450372833192\n"
     ]
    }
   ],
   "source": [
    "x_a, x_m, x_f, mean, var = two_risky_assets_linear_regression(training[\"t30ret\"], training[\"ewretd\"], training[\"vwretd\"], True)\n",
    "rf = training[\"t30ret\"].mean()\n",
    "print(f\"Note that we are not leveraged: {x_a + x_m + x_f}\")\n",
    "# Printing out weights and expected portfolio returns\n",
    "print(f\"Optimal weights: equal-weighted SP={round(x_a, 4)}, value-weighted SP={round(x_m, 4)}, T-bills={round(x_f, 4)}\")\n",
    "portfolio_mean = (mean + x_f * rf)\n",
    "portfolio_std = np.sqrt(var)\n",
    "print(f\"Portfolio expected excess return = {portfolio_mean}, standard deviation = {portfolio_std}\")\n",
    "print(f\"Portfolio sharpe ratio = {(portfolio_mean - rf) / portfolio_std}\")"
   ]
  },
  {
   "cell_type": "markdown",
   "metadata": {},
   "source": [
    "The Sharpe Ratio is likely a biased estimate of more realistic portfolio performance because we calculate the optimal weights over the course of the training period and then apply those optimal portfolio weights to the same period. Essentially, we have a large look-forward bias. Instead, we should test these weights on the testing period."
   ]
  },
  {
   "cell_type": "markdown",
   "metadata": {},
   "source": [
    "3. Plot the realized Sharpe ratio and realized internal rate of return achieved by various portfolio investing fraction $x$ in the equally-weighted index and $1-x$ in the value-weighted index."
   ]
  },
  {
   "cell_type": "code",
   "execution_count": 129,
   "metadata": {},
   "outputs": [
    {
     "data": {
      "image/png": "[encoded data removed]",
      "text/plain": [
       "<Figure size 640x480 with 1 Axes>"
      ]
     },
     "metadata": {},
     "output_type": "display_data"
    },
    {
     "data": {
      "image/png": "[encoded data removed]",
      "text/plain": [
       "<Figure size 640x480 with 1 Axes>"
      ]
     },
     "metadata": {},
     "output_type": "display_data"
    }
   ],
   "source": [
    "weights = [0, 0.1, 0.2, 0.35, 0.5, 0.75, 1, 1.25, 1.5]\n",
    "rf = training[\"t30ret\"].mean()\n",
    "pi_a = training[\"ewretd\"].mean() - rf\n",
    "pi_m = training[\"vwretd\"].mean() - rf\n",
    "asset_var, market_var = training[\"ewretd\"].var(), training[\"vwretd\"].var()\n",
    "sharpes = []\n",
    "irr = []\n",
    "for x in weights:\n",
    "    mean = rf + x * (alpha + beta * pi_a) + (1-x) * pi_m\n",
    "    var = (beta * x + (1-x)) ** 2 * market_var + (x ** 2 * asset_var)\n",
    "    std = np.sqrt(var)\n",
    "    sharpes.append(mean/ std)\n",
    "    irr.append(std)\n",
    "\n",
    "plt.scatter(weights, sharpes, color='blue', label='Sharpes')\n",
    "plt.xlabel('Investing fraction in the equally-weighted index')\n",
    "plt.ylabel('Sharpe ratio')\n",
    "plt.title('Scatter Plot of Sharpe Ratio vs Fraction invested in Equally-weighted index')\n",
    "plt.legend()\n",
    "plt.show()\n",
    "\n",
    "plt.scatter(weights, irr, color='red', label='Internal rate of return')\n",
    "plt.xlabel('Investing fraction in the equally-weighted index')\n",
    "plt.ylabel('Internal Rate of Return')\n",
    "plt.title('Scatter Plot of IRR vs Fraction invested in Equally-weighted index')\n",
    "plt.legend()\n",
    "plt.show()"
   ]
  },
  {
   "cell_type": "markdown",
   "metadata": {},
   "source": [
    "Now consider how to use the second half of the data to test the model.  Predicting future returns is difficult. Specifically, the estimated mean return on the two indexes are subject to error because the return standard deviations each month are large relative to the monthly means. To apply the model to the test data, use for a predicted value of $\\alpha$ some fraction of the estimate of $\\alpha$ from the OLS regression. An reasonable but simplistic ad hoc value might be one-half the estimated $\\alpha$. Using one-half of the estimated $\\alpha$ is a simplistic, ad hoc way to approximate a Bayesian adjustment based on an initial belief that the unknown true $\\alpha$ has an expected value equal to of zero and the variance of this initial estimate is the same as the variance of the difference between the true $\\alpha$ and its OLS estimate. More generally, instead of using weights of one half, one might use weights inversely proportional to the variance of the errors of the prior estimate (of zero) and the variance of the error from the OLS estimate.\n",
    "\n",
    "Instead of also deflating the risk premium on the value-weighted index by a factor of one half, it would be appropriate not to deflate it at all if our initial expectation was that the risk premium was likely to be different from zero and probably positive. "
   ]
  },
  {
   "cell_type": "markdown",
   "metadata": {},
   "source": [
    "4. Using this \"conservative\" estimate of $\\alpha$ (deflated by one half), calculate the optimal portfolio for the log-utility investor, plot the returns on this portfolio, and calculate the achieved Sharpe ratio.\n"
   ]
  },
  {
   "cell_type": "code",
   "execution_count": 130,
   "metadata": {},
   "outputs": [
    {
     "name": "stdout",
     "output_type": "stream",
     "text": [
      "Note that we are not leveraged: 1.0000000000000004\n",
      "Optimal weights: value-weighted SP=0.0629, equal-weighted SP=4.1841, T-bills=-3.247\n",
      "Portfolio expected excess return = 0.0284255295565398, standard deviation = 0.19092791841432818\n",
      "Portfolio sharpe ratio = 0.1305100017685465\n"
     ]
    }
   ],
   "source": [
    "rf = testing[\"t30ret\"].mean()\n",
    "pi_a, pi_m = (testing[\"vwretd\"]- testing[\"t30ret\"]).mean(), (testing[\"ewretd\"] - testing[\"t30ret\"]).mean()\n",
    "asset_var, market_var = testing[\"ewretd\"].var(), testing[\"vwretd\"].var()\n",
    "# Let asset be some asset and let market be the \"market index\"\n",
    "# Drop nans in case we don't have data for either of the assets\n",
    "# Calculate estimates of variances, alphas, betas\n",
    "modified_alpha = alpha / 2\n",
    "# Finding optimal weights\n",
    "x_a = modified_alpha / asset_var\n",
    "x_m = (pi_m / market_var) - beta * x_a\n",
    "x_f = 1 - x_a - x_m    \n",
    "mean = rf + x_a * (modified_alpha + beta * pi_a) + x_m * pi_m\n",
    "var = ((beta * x_a + x_m) ** 2) * market_var + (x_a ** 2 * asset_var)\n",
    "\n",
    "print(f\"Note that we are not leveraged: {x_a + x_m + x_f}\")\n",
    "# Printing out weights and expected portfolio returns\n",
    "print(f\"Optimal weights: value-weighted SP={round(x_a, 4)}, equal-weighted SP={round(x_m, 4)}, T-bills={round(x_f, 4)}\")\n",
    "portfolio_mean = (mean + x_f * rf)\n",
    "portfolio_std = np.sqrt(var)\n",
    "print(f\"Portfolio expected excess return = {portfolio_mean}, standard deviation = {portfolio_std}\")\n",
    "print(f\"Portfolio sharpe ratio = {(portfolio_mean - rf) / portfolio_std}\")"
   ]
  },
  {
   "cell_type": "markdown",
   "metadata": {},
   "source": [
    "5. Also calculate OLS estimates for the test dataset. Provide an intuitive discussion of whether deflating the estimates of $\\alpha$ by one-half was a good idea.\n"
   ]
  },
  {
   "cell_type": "code",
   "execution_count": 131,
   "metadata": {},
   "outputs": [
    {
     "name": "stdout",
     "output_type": "stream",
     "text": [
      "Training estimate for alpha = 0.0003215330192830636, and modified alpha = 0.0001607665096415318\n",
      "Estimates of alpha = 0.0016415199723159996, beta = 1.0703154379172415\n",
      "Estimates for value weighted excess returns are mean = 0.006470495711835335 and variance = 0.0020213104301058994\n",
      "Estimates for equal weighted excess returns are mean = 0.00856699142367067 and variance = 0.0025613540446019845\n",
      "Estimates for the variance of the residuals = 0.000245791072433518\n",
      "Note that we are not leveraged: 1.0\n",
      "Optimal weights: value-weighted SP=0.6426, equal-weighted SP=2.5251, T-bills=-2.1677\n",
      "Portfolio expected excess return = 0.018238674917089623, standard deviation = 0.14779738542753612\n",
      "Portfolio sharpe ratio = 0.09967123767349229\n"
     ]
    }
   ],
   "source": [
    "print(f\"Training estimate for alpha = {alpha}, and modified alpha = {modified_alpha}\")\n",
    "# Using Linear Regression model from Sklearn\n",
    "testing = df.iloc[int(len(df) / 2):].dropna()\n",
    "X = np.array(testing[\"vwretd\"] - testing[\"t30ret\"]).reshape(-1, 1)\n",
    "y = np.array(testing[\"ewretd\"] - testing[\"t30ret\"]).reshape(-1, 1)\n",
    "model = LinearRegression().fit(X, y)\n",
    "beta = model.coef_[0][0]\n",
    "alpha = model.intercept_[0]\n",
    "residuals = y - model.predict(X)\n",
    "\n",
    "# Printing out estimates for the model\n",
    "print(f\"Estimates of alpha = {alpha}, beta = {beta}\")\n",
    "print(f\"Estimates for value weighted excess returns are mean = {X.mean()} and variance = {X.var()}\")\n",
    "print(f\"Estimates for equal weighted excess returns are mean = {y.mean()} and variance = {y.var()}\")\n",
    "print(f\"Estimates for the variance of the residuals = {residuals.var()}\")\n",
    "\n",
    "\n",
    "rf = testing[\"t30ret\"].mean()\n",
    "pi_a, pi_m = (testing[\"ewretd\"]- testing[\"t30ret\"]).mean(), (testing[\"vwretd\"] - testing[\"t30ret\"]).mean()\n",
    "asset_var, market_var = testing[\"ewretd\"].var(), testing[\"vwretd\"].var()\n",
    "# Finding optimal weights\n",
    "x_a = alpha / asset_var\n",
    "x_m = (pi_m / market_var) - beta * x_a\n",
    "x_f = 1 - x_a - x_m    \n",
    "mean = rf + x_a * (modified_alpha + beta * pi_a) + x_m * pi_m\n",
    "var = ((beta * x_a + x_m) ** 2) * market_var + (x_a ** 2 * asset_var)\n",
    "\n",
    "print(f\"Note that we are not leveraged: {x_a + x_m + x_f}\")\n",
    "# Printing out weights and expected portfolio returns\n",
    "print(f\"Optimal weights: value-weighted SP={round(x_a, 4)}, equal-weighted SP={round(x_m, 4)}, T-bills={round(x_f, 4)}\")\n",
    "portfolio_mean = (mean + x_f * rf)\n",
    "portfolio_std = np.sqrt(var)\n",
    "print(f\"Portfolio expected excess return = {portfolio_mean}, standard deviation = {portfolio_std}\")\n",
    "print(f\"Portfolio sharpe ratio = {(portfolio_mean - rf) / portfolio_std}\")"
   ]
  },
  {
   "cell_type": "markdown",
   "metadata": {},
   "source": [
    "The old alpha and the modified alpha in the training dataset by dividing by 2 would not be a good fit for the testing dataset because the alpha obtained in the testing dataset is actually about 10x greater than the modified alpha in the testing dataset. This is a big difference in the wrong direction, so the modification is not a good idea."
   ]
  },
  {
   "cell_type": "markdown",
   "metadata": {},
   "source": [
    "6. (Extra Credit) Implement the methodology for this problem in a more sophisticated manner by using for any month a training dataset consisting of all previous months.\n",
    "\n",
    "Hints: Write the OLS regression as a function which can be called more than once. Let the beginning and ending dates used in the regression be function arguments. Also let the ad hoc Bayesian parameter (of one half) be a function argument."
   ]
  },
  {
   "cell_type": "markdown",
   "metadata": {},
   "source": [
    "# Problem 3\n",
    "\n",
    "This problem will consider how to use market information to forecast returns on a market index.\n",
    "\n",
    "Define three \"signals\" (dividend yield, past returns, volatility) which might be used to forecast returns on three market indexes (value-weighted, equally-weighted, and SP500):\n",
    "\n",
    "1. Construct the past year's dividend yield on each index as a monthly time series starting one year after the beginning of the data. (Hint: Each month's dividend yield can be approximated from the difference between returns with and without dividends; a simple approximation to the dividend yield is the sum of these differences.)\n",
    "\n",
    "# How is this problem possible given the dataset??\n",
    "\n",
    "Note: The dataset does not contain data for the SP500 returns with and without dividends, so I don't know how I can construct this `dividend yield` factor?\n"
   ]
  },
  {
   "cell_type": "code",
   "execution_count": 132,
   "metadata": {},
   "outputs": [
    {
     "data": {
      "text/html": [
       "<div>\n",
       "<style scoped>\n",
       "    .dataframe tbody tr th:only-of-type {\n",
       "        vertical-align: middle;\n",
       "    }\n",
       "\n",
       "    .dataframe tbody tr th {\n",
       "        vertical-align: top;\n",
       "    }\n",
       "\n",
       "    .dataframe thead th {\n",
       "        text-align: right;\n",
       "    }\n",
       "</style>\n",
       "<table border=\"1\" class=\"dataframe\">\n",
       "  <thead>\n",
       "    <tr style=\"text-align: right;\">\n",
       "      <th></th>\n",
       "      <th>Value-Weighted Dividend Yield</th>\n",
       "      <th>Equally-Weighted Dividend Yield</th>\n",
       "    </tr>\n",
       "  </thead>\n",
       "  <tbody>\n",
       "    <tr>\n",
       "      <th>12</th>\n",
       "      <td>0.004308</td>\n",
       "      <td>0.004113</td>\n",
       "    </tr>\n",
       "    <tr>\n",
       "      <th>13</th>\n",
       "      <td>0.004347</td>\n",
       "      <td>0.004159</td>\n",
       "    </tr>\n",
       "    <tr>\n",
       "      <th>14</th>\n",
       "      <td>0.004378</td>\n",
       "      <td>0.004162</td>\n",
       "    </tr>\n",
       "    <tr>\n",
       "      <th>15</th>\n",
       "      <td>0.004413</td>\n",
       "      <td>0.004178</td>\n",
       "    </tr>\n",
       "    <tr>\n",
       "      <th>16</th>\n",
       "      <td>0.004284</td>\n",
       "      <td>0.004069</td>\n",
       "    </tr>\n",
       "    <tr>\n",
       "      <th>...</th>\n",
       "      <td>...</td>\n",
       "      <td>...</td>\n",
       "    </tr>\n",
       "    <tr>\n",
       "      <th>1160</th>\n",
       "      <td>0.001247</td>\n",
       "      <td>0.001492</td>\n",
       "    </tr>\n",
       "    <tr>\n",
       "      <th>1161</th>\n",
       "      <td>0.001273</td>\n",
       "      <td>0.001527</td>\n",
       "    </tr>\n",
       "    <tr>\n",
       "      <th>1162</th>\n",
       "      <td>0.001287</td>\n",
       "      <td>0.001535</td>\n",
       "    </tr>\n",
       "    <tr>\n",
       "      <th>1163</th>\n",
       "      <td>0.001337</td>\n",
       "      <td>0.001566</td>\n",
       "    </tr>\n",
       "    <tr>\n",
       "      <th>1164</th>\n",
       "      <td>0.001352</td>\n",
       "      <td>0.001582</td>\n",
       "    </tr>\n",
       "  </tbody>\n",
       "</table>\n",
       "<p>1153 rows × 2 columns</p>\n",
       "</div>"
      ],
      "text/plain": [
       "      Value-Weighted Dividend Yield  Equally-Weighted Dividend Yield\n",
       "12                         0.004308                         0.004113\n",
       "13                         0.004347                         0.004159\n",
       "14                         0.004378                         0.004162\n",
       "15                         0.004413                         0.004178\n",
       "16                         0.004284                         0.004069\n",
       "...                             ...                              ...\n",
       "1160                       0.001247                         0.001492\n",
       "1161                       0.001273                         0.001527\n",
       "1162                       0.001287                         0.001535\n",
       "1163                       0.001337                         0.001566\n",
       "1164                       0.001352                         0.001582\n",
       "\n",
       "[1153 rows x 2 columns]"
      ]
     },
     "execution_count": 132,
     "metadata": {},
     "output_type": "execute_result"
    }
   ],
   "source": [
    "dividend_yield = pd.DataFrame({\n",
    "    \"Value-Weighted Dividend Yield\": (df[\"vwretd\"] - df[\"vwretx\"]).rolling(window=12).mean(), \n",
    "    \"Equally-Weighted Dividend Yield\": (df[\"ewretd\"] - df[\"ewretx\"]).rolling(window=12).mean()\n",
    "}).iloc[12:]\n",
    "dividend_yield"
   ]
  },
  {
   "cell_type": "markdown",
   "metadata": {},
   "source": [
    "2. Construct a series of past long-term returns over the previous ten years. (The return over the previous ten years is the amount one dollar invested in the index ten years previously would be worth at the current date.) Define the signal as the log of this past ten-year return. Explain why taking the log might be a sensible empirical strategy for this problem.\n"
   ]
  },
  {
   "cell_type": "code",
   "execution_count": 135,
   "metadata": {},
   "outputs": [
    {
     "data": {
      "text/html": [
       "<div>\n",
       "<style scoped>\n",
       "    .dataframe tbody tr th:only-of-type {\n",
       "        vertical-align: middle;\n",
       "    }\n",
       "\n",
       "    .dataframe tbody tr th {\n",
       "        vertical-align: top;\n",
       "    }\n",
       "\n",
       "    .dataframe thead th {\n",
       "        text-align: right;\n",
       "    }\n",
       "</style>\n",
       "<table border=\"1\" class=\"dataframe\">\n",
       "  <thead>\n",
       "    <tr style=\"text-align: right;\">\n",
       "      <th></th>\n",
       "      <th>Value-Weighted Returns</th>\n",
       "      <th>Equally-Weighted Returns</th>\n",
       "      <th>SP500 Returns</th>\n",
       "    </tr>\n",
       "  </thead>\n",
       "  <tbody>\n",
       "    <tr>\n",
       "      <th>1044</th>\n",
       "      <td>0.005885</td>\n",
       "      <td>0.021189</td>\n",
       "      <td>0.007043</td>\n",
       "    </tr>\n",
       "    <tr>\n",
       "      <th>1045</th>\n",
       "      <td>0.055650</td>\n",
       "      <td>0.083844</td>\n",
       "      <td>0.056241</td>\n",
       "    </tr>\n",
       "    <tr>\n",
       "      <th>1046</th>\n",
       "      <td>0.066106</td>\n",
       "      <td>0.093802</td>\n",
       "      <td>0.067241</td>\n",
       "    </tr>\n",
       "    <tr>\n",
       "      <th>1047</th>\n",
       "      <td>0.101497</td>\n",
       "      <td>0.133970</td>\n",
       "      <td>0.102597</td>\n",
       "    </tr>\n",
       "    <tr>\n",
       "      <th>1048</th>\n",
       "      <td>0.119810</td>\n",
       "      <td>0.148819</td>\n",
       "      <td>0.120521</td>\n",
       "    </tr>\n",
       "    <tr>\n",
       "      <th>...</th>\n",
       "      <td>...</td>\n",
       "      <td>...</td>\n",
       "      <td>...</td>\n",
       "    </tr>\n",
       "    <tr>\n",
       "      <th>1160</th>\n",
       "      <td>1.031282</td>\n",
       "      <td>0.995858</td>\n",
       "      <td>1.027012</td>\n",
       "    </tr>\n",
       "    <tr>\n",
       "      <th>1161</th>\n",
       "      <td>0.933806</td>\n",
       "      <td>0.896086</td>\n",
       "      <td>0.928962</td>\n",
       "    </tr>\n",
       "    <tr>\n",
       "      <th>1162</th>\n",
       "      <td>1.010023</td>\n",
       "      <td>0.987463</td>\n",
       "      <td>1.005796</td>\n",
       "    </tr>\n",
       "    <tr>\n",
       "      <th>1163</th>\n",
       "      <td>1.060866</td>\n",
       "      <td>1.052142</td>\n",
       "      <td>1.058154</td>\n",
       "    </tr>\n",
       "    <tr>\n",
       "      <th>1164</th>\n",
       "      <td>0.998810</td>\n",
       "      <td>1.000069</td>\n",
       "      <td>0.997373</td>\n",
       "    </tr>\n",
       "  </tbody>\n",
       "</table>\n",
       "<p>121 rows × 3 columns</p>\n",
       "</div>"
      ],
      "text/plain": [
       "      Value-Weighted Returns  Equally-Weighted Returns  SP500 Returns\n",
       "1044                0.005885                  0.021189       0.007043\n",
       "1045                0.055650                  0.083844       0.056241\n",
       "1046                0.066106                  0.093802       0.067241\n",
       "1047                0.101497                  0.133970       0.102597\n",
       "1048                0.119810                  0.148819       0.120521\n",
       "...                      ...                       ...            ...\n",
       "1160                1.031282                  0.995858       1.027012\n",
       "1161                0.933806                  0.896086       0.928962\n",
       "1162                1.010023                  0.987463       1.005796\n",
       "1163                1.060866                  1.052142       1.058154\n",
       "1164                0.998810                  1.000069       0.997373\n",
       "\n",
       "[121 rows x 3 columns]"
      ]
     },
     "execution_count": 135,
     "metadata": {},
     "output_type": "execute_result"
    }
   ],
   "source": [
    "past_10y = df.iloc[-121:]\n",
    "returns = pd.DataFrame({\"Value-Weighted Returns\": np.log(np.cumprod(1 + past_10y[\"vwretx\"])),\n",
    "                        \"Equally-Weighted Returns\": np.log(np.cumprod(1 + past_10y[\"ewretx\"])), \n",
    "                        \"SP500 Returns\": np.log(np.cumprod(1 + past_10y[\"sprtrn\"]))})\n",
    "returns"
   ]
  },
  {
   "cell_type": "markdown",
   "metadata": {},
   "source": [
    "3. Use the daily dataset to construct an estimate for each month volatility by using the same standard deviation of the previous month's daily log returns.\n",
    "\n",
    "# What daily dataset??? I do not see any announcement or directions about a daily dataset?"
   ]
  },
  {
   "cell_type": "code",
   "execution_count": 136,
   "metadata": {},
   "outputs": [
    {
     "data": {
      "text/plain": [
       "0.054241924346335194"
      ]
     },
     "execution_count": 136,
     "metadata": {},
     "output_type": "execute_result"
    }
   ],
   "source": [
    "df[\"vwretx\"].std()"
   ]
  },
  {
   "cell_type": "markdown",
   "metadata": {},
   "source": [
    "4. Now let $x_t$ denote one of the three signals constructed in 1, 2, 3 above, and let $r_t$ denote the excess return on one of the three indexes. Let $f(x)$ denote some transformation of the data; here we will use $f(x) = \\frac{x - \\bar{x}}{\\sigma_x}$, where $\\bar{x}$ is the sample mean of $x_t$ and $\\sigma_x$ is the sample standard deviation of $x_t$. Consider the predictive regression \n",
    "$$\n",
    "r_t = \\alpha + \\beta \\cdot f(x_t) + \\epsilon_t\n",
    "$$\n",
    "As before, divide the entire time period into a training period and testing period of equal length, calculate OLS estimates for $\\alpha$ and $\\beta$.\n"
   ]
  },
  {
   "cell_type": "code",
   "execution_count": null,
   "metadata": {},
   "outputs": [],
   "source": [
    "from sklearn.linear_model import LinearRegression\n",
    "\n",
    "# Assuming 'df_monthly' is your DataFrame with monthly data and 'signal' is the column with your chosen signal\n",
    "# Also assuming 'excess_return' is the column with your excess return data\n",
    "\n",
    "# Standardize the signal\n",
    "factor = (dividend_yield['Value-Weighted Dividend Yield'] - dividend_yield['Value-Weighted Dividend Yield'].mean()) / dividend_yield['Value-Weighted Dividend Yield'].std()\n",
    "\n",
    "# Split the data into training and testing sets\n",
    "split_point = len(df) // 2\n",
    "train = df.iloc[:split_point]\n",
    "test = df.iloc[split_point:]\n",
    "\n",
    "# Fit the model on the training data\n",
    "X_train = np.array(factor).reshape(-1, 1)\n",
    "y_train = np.array(df[\"vwretx\"] - df[\"t30ret\"].reshape(-1, 1)\n",
    "model = LinearRegression().fit(X_train, y_train)\n",
    "\n",
    "# Get the alpha and beta estimates\n",
    "alpha_estimate = model.intercept_\n",
    "beta_estimate = model.coef_[0]\n",
    "\n",
    "# Print out the estimates\n",
    "print(f\"Estimates of alpha: {alpha_estimate}\")\n",
    "print(f\"Estimates of beta: {beta_estimate}\")"
   ]
  },
  {
   "cell_type": "markdown",
   "metadata": {},
   "source": [
    "5. Calculate an optimal portfolio under the assumptions that the estimated parameters are correct versions of the true parameters. Plot the returns on this portfolio against the returns on the index itself for the training period. Obviously, your market-timing model will beat a buy and hold strategy in the training period it was estimated on. (Note: Since there are three index portfolios and three signals, you might present 9 plots in a 3 x 3 grid if you have time.)\n"
   ]
  },
  {
   "cell_type": "markdown",
   "metadata": {},
   "source": [
    "6. Now apply the model out of sample by dampening the estimate of $\\beta$ by some ad hoc factor, such as one half. Calculate the optimal portfolio for a log utility investor. Plot the returns achieved out of sample for the estimated optimal portfolio. Calculate the Sharpe ratio for the optimal portfolio. Plot the Sharpe ratio achieved in the test period when the investor holds a fraction $x$ of wealth in the optimal portfolio and a fraction $1-x$ in the (untimed) index. \n"
   ]
  },
  {
   "cell_type": "markdown",
   "metadata": {},
   "source": [
    "7. Tell a brief economic, financial, or behavioral story from why you obtain the results above.\n",
    "\n",
    "8. (Extra Credit) Generalize using past ten-year returns to using past returns over various different periods from one day to ten years. Do you find momentum over some periods and reversals over other periods."
   ]
  }
 ],
 "metadata": {
  "kernelspec": {
   "display_name": "Python 3 (ipykernel)",
   "language": "python",
   "name": "python3"
  },
  "language_info": {
   "codemirror_mode": {
    "name": "ipython",
    "version": 3
   },
   "file_extension": ".py",
   "mimetype": "text/x-python",
   "name": "python",
   "nbconvert_exporter": "python",
   "pygments_lexer": "ipython3",
   "version": "3.8.11"
  }
 },
 "nbformat": 4,
 "nbformat_minor": 4
}
