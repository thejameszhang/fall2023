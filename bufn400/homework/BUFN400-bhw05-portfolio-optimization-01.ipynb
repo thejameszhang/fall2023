{
 "cells": [
  {
   "cell_type": "markdown",
   "metadata": {
    "jp-MarkdownHeadingCollapsed": true
   },
   "source": [
    "### BUFN400 Fall 2023---University of Maryland \n",
    "\n",
    "# Homework 5: Portfolio Optimization and Predicting Returns with OLS Regressions\n",
    "\n",
    "### By James Zhang \n",
    "\n",
    "### November 27, 2023\n",
    "\n",
    "#### There are probably some typos in in this homework since this is the first time I have used this particular problem set.  Please send me an email if you find typos!!\n"
   ]
  },
  {
   "cell_type": "code",
   "execution_count": 139,
   "metadata": {},
   "outputs": [],
   "source": [
    "import pandas as pd\n",
    "import numpy as np\n",
    "import matplotlib.pyplot as plt\n",
    "import warnings\n",
    "from sklearn.linear_model import LinearRegression\n",
    "warnings.filterwarnings(\"ignore\")\n",
    "sp_df = pd.read_csv(\"sp500.csv\")\n",
    "treasury_df = pd.read_csv(\"treasury.csv\")"
   ]
  },
  {
   "cell_type": "markdown",
   "metadata": {},
   "source": [
    "# Problem 0\n",
    "\n",
    "(This problem is almost the same as for Homework 1. You are welcome to cut and paste from that homework.)\n",
    "\n",
    "1. Under \"CRSP\" / \"Annual Update\" / \"Index / Treasury and Inflation\", download \"US Treasury and Inflation Indexes\". Choose the entire time period, monthly data, and \"Both\" (return and level), all variables. Show the number of rows and columns, the names of the columns, and the first few rows of data."
   ]
  },
  {
   "cell_type": "code",
   "execution_count": 140,
   "metadata": {},
   "outputs": [
    {
     "name": "stdout",
     "output_type": "stream",
     "text": [
      "Number of rows: 1165, and number of columns: 21\n",
      "The columns names are ['caldt', 'b30ret', 'b30ind', 'b20ret', 'b20ind', 'b10ret', 'b10ind', 'b7ret', 'b7ind', 'b5ret', 'b5ind', 'b2ret', 'b2ind', 'b1ret', 'b1ind', 't90ret', 't90ind', 't30ret', 't30ind', 'cpiret', 'cpiind']\n"
     ]
    },
    {
     "data": {
      "text/html": [
       "<div>\n",
       "<style scoped>\n",
       "    .dataframe tbody tr th:only-of-type {\n",
       "        vertical-align: middle;\n",
       "    }\n",
       "\n",
       "    .dataframe tbody tr th {\n",
       "        vertical-align: top;\n",
       "    }\n",
       "\n",
       "    .dataframe thead th {\n",
       "        text-align: right;\n",
       "    }\n",
       "</style>\n",
       "<table border=\"1\" class=\"dataframe\">\n",
       "  <thead>\n",
       "    <tr style=\"text-align: right;\">\n",
       "      <th></th>\n",
       "      <th>caldt</th>\n",
       "      <th>b30ret</th>\n",
       "      <th>b30ind</th>\n",
       "      <th>b20ret</th>\n",
       "      <th>b20ind</th>\n",
       "      <th>b10ret</th>\n",
       "      <th>b10ind</th>\n",
       "      <th>b7ret</th>\n",
       "      <th>b7ind</th>\n",
       "      <th>b5ret</th>\n",
       "      <th>...</th>\n",
       "      <th>b2ret</th>\n",
       "      <th>b2ind</th>\n",
       "      <th>b1ret</th>\n",
       "      <th>b1ind</th>\n",
       "      <th>t90ret</th>\n",
       "      <th>t90ind</th>\n",
       "      <th>t30ret</th>\n",
       "      <th>t30ind</th>\n",
       "      <th>cpiret</th>\n",
       "      <th>cpiind</th>\n",
       "    </tr>\n",
       "  </thead>\n",
       "  <tbody>\n",
       "    <tr>\n",
       "      <th>0</th>\n",
       "      <td>1925-12-31</td>\n",
       "      <td>NaN</td>\n",
       "      <td>50.27088</td>\n",
       "      <td>NaN</td>\n",
       "      <td>49.26875</td>\n",
       "      <td>NaN</td>\n",
       "      <td>46.97544</td>\n",
       "      <td>NaN</td>\n",
       "      <td>40.4141</td>\n",
       "      <td>NaN</td>\n",
       "      <td>...</td>\n",
       "      <td>NaN</td>\n",
       "      <td>39.54598</td>\n",
       "      <td>NaN</td>\n",
       "      <td>39.84357</td>\n",
       "      <td>NaN</td>\n",
       "      <td>34.83693</td>\n",
       "      <td>NaN</td>\n",
       "      <td>38.91082</td>\n",
       "      <td>NaN</td>\n",
       "      <td>42.1</td>\n",
       "    </tr>\n",
       "    <tr>\n",
       "      <th>1</th>\n",
       "      <td>1926-01-30</td>\n",
       "      <td>NaN</td>\n",
       "      <td>50.27088</td>\n",
       "      <td>NaN</td>\n",
       "      <td>49.26875</td>\n",
       "      <td>NaN</td>\n",
       "      <td>46.97544</td>\n",
       "      <td>NaN</td>\n",
       "      <td>40.4141</td>\n",
       "      <td>NaN</td>\n",
       "      <td>...</td>\n",
       "      <td>NaN</td>\n",
       "      <td>39.54598</td>\n",
       "      <td>NaN</td>\n",
       "      <td>39.84357</td>\n",
       "      <td>0.004042</td>\n",
       "      <td>34.97774</td>\n",
       "      <td>0.002951</td>\n",
       "      <td>39.02565</td>\n",
       "      <td>0.000000</td>\n",
       "      <td>42.1</td>\n",
       "    </tr>\n",
       "    <tr>\n",
       "      <th>2</th>\n",
       "      <td>1926-02-27</td>\n",
       "      <td>NaN</td>\n",
       "      <td>50.27088</td>\n",
       "      <td>NaN</td>\n",
       "      <td>49.26875</td>\n",
       "      <td>NaN</td>\n",
       "      <td>46.97544</td>\n",
       "      <td>NaN</td>\n",
       "      <td>40.4141</td>\n",
       "      <td>NaN</td>\n",
       "      <td>...</td>\n",
       "      <td>NaN</td>\n",
       "      <td>39.54598</td>\n",
       "      <td>NaN</td>\n",
       "      <td>39.84357</td>\n",
       "      <td>0.003237</td>\n",
       "      <td>35.09096</td>\n",
       "      <td>0.002768</td>\n",
       "      <td>39.13367</td>\n",
       "      <td>0.000000</td>\n",
       "      <td>42.1</td>\n",
       "    </tr>\n",
       "    <tr>\n",
       "      <th>3</th>\n",
       "      <td>1926-03-31</td>\n",
       "      <td>NaN</td>\n",
       "      <td>50.27088</td>\n",
       "      <td>NaN</td>\n",
       "      <td>49.26875</td>\n",
       "      <td>NaN</td>\n",
       "      <td>46.97544</td>\n",
       "      <td>NaN</td>\n",
       "      <td>40.4141</td>\n",
       "      <td>NaN</td>\n",
       "      <td>...</td>\n",
       "      <td>NaN</td>\n",
       "      <td>39.54598</td>\n",
       "      <td>NaN</td>\n",
       "      <td>39.84357</td>\n",
       "      <td>0.002778</td>\n",
       "      <td>35.18843</td>\n",
       "      <td>0.002778</td>\n",
       "      <td>39.24238</td>\n",
       "      <td>-0.005587</td>\n",
       "      <td>41.9</td>\n",
       "    </tr>\n",
       "    <tr>\n",
       "      <th>4</th>\n",
       "      <td>1926-04-30</td>\n",
       "      <td>NaN</td>\n",
       "      <td>50.27088</td>\n",
       "      <td>NaN</td>\n",
       "      <td>49.26875</td>\n",
       "      <td>NaN</td>\n",
       "      <td>46.97544</td>\n",
       "      <td>NaN</td>\n",
       "      <td>40.4141</td>\n",
       "      <td>NaN</td>\n",
       "      <td>...</td>\n",
       "      <td>NaN</td>\n",
       "      <td>39.54598</td>\n",
       "      <td>NaN</td>\n",
       "      <td>39.84357</td>\n",
       "      <td>0.003072</td>\n",
       "      <td>35.29653</td>\n",
       "      <td>0.003072</td>\n",
       "      <td>39.36293</td>\n",
       "      <td>0.005618</td>\n",
       "      <td>42.1</td>\n",
       "    </tr>\n",
       "  </tbody>\n",
       "</table>\n",
       "<p>5 rows × 21 columns</p>\n",
       "</div>"
      ],
      "text/plain": [
       "        caldt  b30ret    b30ind  b20ret    b20ind  b10ret    b10ind  b7ret  \\\n",
       "0  1925-12-31     NaN  50.27088     NaN  49.26875     NaN  46.97544    NaN   \n",
       "1  1926-01-30     NaN  50.27088     NaN  49.26875     NaN  46.97544    NaN   \n",
       "2  1926-02-27     NaN  50.27088     NaN  49.26875     NaN  46.97544    NaN   \n",
       "3  1926-03-31     NaN  50.27088     NaN  49.26875     NaN  46.97544    NaN   \n",
       "4  1926-04-30     NaN  50.27088     NaN  49.26875     NaN  46.97544    NaN   \n",
       "\n",
       "     b7ind  b5ret  ...  b2ret     b2ind  b1ret     b1ind    t90ret    t90ind  \\\n",
       "0  40.4141    NaN  ...    NaN  39.54598    NaN  39.84357       NaN  34.83693   \n",
       "1  40.4141    NaN  ...    NaN  39.54598    NaN  39.84357  0.004042  34.97774   \n",
       "2  40.4141    NaN  ...    NaN  39.54598    NaN  39.84357  0.003237  35.09096   \n",
       "3  40.4141    NaN  ...    NaN  39.54598    NaN  39.84357  0.002778  35.18843   \n",
       "4  40.4141    NaN  ...    NaN  39.54598    NaN  39.84357  0.003072  35.29653   \n",
       "\n",
       "     t30ret    t30ind    cpiret  cpiind  \n",
       "0       NaN  38.91082       NaN    42.1  \n",
       "1  0.002951  39.02565  0.000000    42.1  \n",
       "2  0.002768  39.13367  0.000000    42.1  \n",
       "3  0.002778  39.24238 -0.005587    41.9  \n",
       "4  0.003072  39.36293  0.005618    42.1  \n",
       "\n",
       "[5 rows x 21 columns]"
      ]
     },
     "execution_count": 140,
     "metadata": {},
     "output_type": "execute_result"
    }
   ],
   "source": [
    "print(f\"Number of rows: {treasury_df.shape[0]}, and number of columns: {treasury_df.shape[1]}\")\n",
    "print(f\"The columns names are {[column for column in treasury_df.columns]}\")\n",
    "treasury_df.head()"
   ]
  },
  {
   "cell_type": "markdown",
   "metadata": {},
   "source": [
    "2. Under \"CRSP\" / \"Annual Update\" / Index / S&P 500 Indexes\", download \"CRSP Index File on the S&P 500\". Choose the entire time period, monthly data, and all variables.  Show the number of rows and columns, the names of the columns, and the first few rows of data."
   ]
  },
  {
   "cell_type": "code",
   "execution_count": 141,
   "metadata": {},
   "outputs": [
    {
     "name": "stdout",
     "output_type": "stream",
     "text": [
      "Number of rows: 1165, and number of columns: 11\n",
      "The columns names are ['caldt', 'vwretd', 'vwretx', 'ewretd', 'ewretx', 'totval', 'totcnt', 'usdval', 'usdcnt', 'spindx', 'sprtrn']\n"
     ]
    },
    {
     "data": {
      "text/html": [
       "<div>\n",
       "<style scoped>\n",
       "    .dataframe tbody tr th:only-of-type {\n",
       "        vertical-align: middle;\n",
       "    }\n",
       "\n",
       "    .dataframe tbody tr th {\n",
       "        vertical-align: top;\n",
       "    }\n",
       "\n",
       "    .dataframe thead th {\n",
       "        text-align: right;\n",
       "    }\n",
       "</style>\n",
       "<table border=\"1\" class=\"dataframe\">\n",
       "  <thead>\n",
       "    <tr style=\"text-align: right;\">\n",
       "      <th></th>\n",
       "      <th>caldt</th>\n",
       "      <th>vwretd</th>\n",
       "      <th>vwretx</th>\n",
       "      <th>ewretd</th>\n",
       "      <th>ewretx</th>\n",
       "      <th>totval</th>\n",
       "      <th>totcnt</th>\n",
       "      <th>usdval</th>\n",
       "      <th>usdcnt</th>\n",
       "      <th>spindx</th>\n",
       "      <th>sprtrn</th>\n",
       "    </tr>\n",
       "  </thead>\n",
       "  <tbody>\n",
       "    <tr>\n",
       "      <th>0</th>\n",
       "      <td>1925-12-31</td>\n",
       "      <td>NaN</td>\n",
       "      <td>NaN</td>\n",
       "      <td>NaN</td>\n",
       "      <td>NaN</td>\n",
       "      <td>15236829.5</td>\n",
       "      <td>89</td>\n",
       "      <td>NaN</td>\n",
       "      <td>NaN</td>\n",
       "      <td>12.46</td>\n",
       "      <td>NaN</td>\n",
       "    </tr>\n",
       "    <tr>\n",
       "      <th>1</th>\n",
       "      <td>1926-01-30</td>\n",
       "      <td>-0.001783</td>\n",
       "      <td>-0.003980</td>\n",
       "      <td>0.006457</td>\n",
       "      <td>0.003250</td>\n",
       "      <td>15277664.0</td>\n",
       "      <td>89</td>\n",
       "      <td>15236829.5</td>\n",
       "      <td>79.0</td>\n",
       "      <td>12.74</td>\n",
       "      <td>0.022472</td>\n",
       "    </tr>\n",
       "    <tr>\n",
       "      <th>2</th>\n",
       "      <td>1926-02-27</td>\n",
       "      <td>-0.033296</td>\n",
       "      <td>-0.037876</td>\n",
       "      <td>-0.039979</td>\n",
       "      <td>-0.042451</td>\n",
       "      <td>14712894.9</td>\n",
       "      <td>89</td>\n",
       "      <td>15277664.0</td>\n",
       "      <td>81.0</td>\n",
       "      <td>12.18</td>\n",
       "      <td>-0.043956</td>\n",
       "    </tr>\n",
       "    <tr>\n",
       "      <th>3</th>\n",
       "      <td>1926-03-31</td>\n",
       "      <td>-0.057708</td>\n",
       "      <td>-0.062007</td>\n",
       "      <td>-0.067915</td>\n",
       "      <td>-0.073275</td>\n",
       "      <td>14012079.2</td>\n",
       "      <td>89</td>\n",
       "      <td>14712894.9</td>\n",
       "      <td>81.0</td>\n",
       "      <td>11.46</td>\n",
       "      <td>-0.059113</td>\n",
       "    </tr>\n",
       "    <tr>\n",
       "      <th>4</th>\n",
       "      <td>1926-04-30</td>\n",
       "      <td>0.038522</td>\n",
       "      <td>0.034856</td>\n",
       "      <td>0.031441</td>\n",
       "      <td>0.027121</td>\n",
       "      <td>14500482.2</td>\n",
       "      <td>89</td>\n",
       "      <td>14012079.2</td>\n",
       "      <td>82.0</td>\n",
       "      <td>11.72</td>\n",
       "      <td>0.022688</td>\n",
       "    </tr>\n",
       "  </tbody>\n",
       "</table>\n",
       "</div>"
      ],
      "text/plain": [
       "        caldt    vwretd    vwretx    ewretd    ewretx      totval  totcnt  \\\n",
       "0  1925-12-31       NaN       NaN       NaN       NaN  15236829.5      89   \n",
       "1  1926-01-30 -0.001783 -0.003980  0.006457  0.003250  15277664.0      89   \n",
       "2  1926-02-27 -0.033296 -0.037876 -0.039979 -0.042451  14712894.9      89   \n",
       "3  1926-03-31 -0.057708 -0.062007 -0.067915 -0.073275  14012079.2      89   \n",
       "4  1926-04-30  0.038522  0.034856  0.031441  0.027121  14500482.2      89   \n",
       "\n",
       "       usdval  usdcnt  spindx    sprtrn  \n",
       "0         NaN     NaN   12.46       NaN  \n",
       "1  15236829.5    79.0   12.74  0.022472  \n",
       "2  15277664.0    81.0   12.18 -0.043956  \n",
       "3  14712894.9    81.0   11.46 -0.059113  \n",
       "4  14012079.2    82.0   11.72  0.022688  "
      ]
     },
     "execution_count": 141,
     "metadata": {},
     "output_type": "execute_result"
    }
   ],
   "source": [
    "print(f\"Number of rows: {sp_df.shape[0]}, and number of columns: {sp_df.shape[1]}\")\n",
    "print(f\"The columns names are {[column for column in sp_df.columns]}\")\n",
    "sp_df.head()"
   ]
  },
  {
   "cell_type": "markdown",
   "metadata": {},
   "source": [
    "3. Merge the two monthly datasets by date into one dataset. Show the number of rows and columns, the names of the columns, and the first few rows of data. (Hint: If the dates do not match exactlly in the merge, you might merge by YYYMM instead of YYYMMDD.)\n",
    "\n",
    "* Hint: To merge data, you need a key (date). An example of merging data was covered in the Python bootcamp. When unexpeted issues  arise, the options `how='outer'` and `indicator=True` can be helpful for diagnosing problems. To make dates line up correctly, consider using `pd.tseries.offsets.MonthEnd(...)`.\n"
   ]
  },
  {
   "cell_type": "code",
   "execution_count": 142,
   "metadata": {},
   "outputs": [
    {
     "name": "stdout",
     "output_type": "stream",
     "text": [
      "Number of rows: 1165, and number of columns: 31\n",
      "The columns names are ['caldt', 'vwretd', 'vwretx', 'ewretd', 'ewretx', 'totval', 'totcnt', 'usdval', 'usdcnt', 'spindx', 'sprtrn', 'b30ret', 'b30ind', 'b20ret', 'b20ind', 'b10ret', 'b10ind', 'b7ret', 'b7ind', 'b5ret', 'b5ind', 'b2ret', 'b2ind', 'b1ret', 'b1ind', 't90ret', 't90ind', 't30ret', 't30ind', 'cpiret', 'cpiind']\n"
     ]
    },
    {
     "data": {
      "text/html": [
       "<div>\n",
       "<style scoped>\n",
       "    .dataframe tbody tr th:only-of-type {\n",
       "        vertical-align: middle;\n",
       "    }\n",
       "\n",
       "    .dataframe tbody tr th {\n",
       "        vertical-align: top;\n",
       "    }\n",
       "\n",
       "    .dataframe thead th {\n",
       "        text-align: right;\n",
       "    }\n",
       "</style>\n",
       "<table border=\"1\" class=\"dataframe\">\n",
       "  <thead>\n",
       "    <tr style=\"text-align: right;\">\n",
       "      <th></th>\n",
       "      <th>caldt</th>\n",
       "      <th>vwretd</th>\n",
       "      <th>vwretx</th>\n",
       "      <th>ewretd</th>\n",
       "      <th>ewretx</th>\n",
       "      <th>totval</th>\n",
       "      <th>totcnt</th>\n",
       "      <th>usdval</th>\n",
       "      <th>usdcnt</th>\n",
       "      <th>spindx</th>\n",
       "      <th>...</th>\n",
       "      <th>b2ret</th>\n",
       "      <th>b2ind</th>\n",
       "      <th>b1ret</th>\n",
       "      <th>b1ind</th>\n",
       "      <th>t90ret</th>\n",
       "      <th>t90ind</th>\n",
       "      <th>t30ret</th>\n",
       "      <th>t30ind</th>\n",
       "      <th>cpiret</th>\n",
       "      <th>cpiind</th>\n",
       "    </tr>\n",
       "  </thead>\n",
       "  <tbody>\n",
       "    <tr>\n",
       "      <th>0</th>\n",
       "      <td>1926-01-01</td>\n",
       "      <td>NaN</td>\n",
       "      <td>NaN</td>\n",
       "      <td>NaN</td>\n",
       "      <td>NaN</td>\n",
       "      <td>15236829.5</td>\n",
       "      <td>89</td>\n",
       "      <td>NaN</td>\n",
       "      <td>NaN</td>\n",
       "      <td>12.46</td>\n",
       "      <td>...</td>\n",
       "      <td>NaN</td>\n",
       "      <td>39.54598</td>\n",
       "      <td>NaN</td>\n",
       "      <td>39.84357</td>\n",
       "      <td>NaN</td>\n",
       "      <td>34.83693</td>\n",
       "      <td>NaN</td>\n",
       "      <td>38.91082</td>\n",
       "      <td>NaN</td>\n",
       "      <td>42.1</td>\n",
       "    </tr>\n",
       "    <tr>\n",
       "      <th>1</th>\n",
       "      <td>1926-02-01</td>\n",
       "      <td>-0.001783</td>\n",
       "      <td>-0.003980</td>\n",
       "      <td>0.006457</td>\n",
       "      <td>0.003250</td>\n",
       "      <td>15277664.0</td>\n",
       "      <td>89</td>\n",
       "      <td>15236829.5</td>\n",
       "      <td>79.0</td>\n",
       "      <td>12.74</td>\n",
       "      <td>...</td>\n",
       "      <td>NaN</td>\n",
       "      <td>39.54598</td>\n",
       "      <td>NaN</td>\n",
       "      <td>39.84357</td>\n",
       "      <td>0.004042</td>\n",
       "      <td>34.97774</td>\n",
       "      <td>0.002951</td>\n",
       "      <td>39.02565</td>\n",
       "      <td>0.000000</td>\n",
       "      <td>42.1</td>\n",
       "    </tr>\n",
       "    <tr>\n",
       "      <th>2</th>\n",
       "      <td>1926-03-01</td>\n",
       "      <td>-0.033296</td>\n",
       "      <td>-0.037876</td>\n",
       "      <td>-0.039979</td>\n",
       "      <td>-0.042451</td>\n",
       "      <td>14712894.9</td>\n",
       "      <td>89</td>\n",
       "      <td>15277664.0</td>\n",
       "      <td>81.0</td>\n",
       "      <td>12.18</td>\n",
       "      <td>...</td>\n",
       "      <td>NaN</td>\n",
       "      <td>39.54598</td>\n",
       "      <td>NaN</td>\n",
       "      <td>39.84357</td>\n",
       "      <td>0.003237</td>\n",
       "      <td>35.09096</td>\n",
       "      <td>0.002768</td>\n",
       "      <td>39.13367</td>\n",
       "      <td>0.000000</td>\n",
       "      <td>42.1</td>\n",
       "    </tr>\n",
       "    <tr>\n",
       "      <th>3</th>\n",
       "      <td>1926-04-01</td>\n",
       "      <td>-0.057708</td>\n",
       "      <td>-0.062007</td>\n",
       "      <td>-0.067915</td>\n",
       "      <td>-0.073275</td>\n",
       "      <td>14012079.2</td>\n",
       "      <td>89</td>\n",
       "      <td>14712894.9</td>\n",
       "      <td>81.0</td>\n",
       "      <td>11.46</td>\n",
       "      <td>...</td>\n",
       "      <td>NaN</td>\n",
       "      <td>39.54598</td>\n",
       "      <td>NaN</td>\n",
       "      <td>39.84357</td>\n",
       "      <td>0.002778</td>\n",
       "      <td>35.18843</td>\n",
       "      <td>0.002778</td>\n",
       "      <td>39.24238</td>\n",
       "      <td>-0.005587</td>\n",
       "      <td>41.9</td>\n",
       "    </tr>\n",
       "    <tr>\n",
       "      <th>4</th>\n",
       "      <td>1926-05-01</td>\n",
       "      <td>0.038522</td>\n",
       "      <td>0.034856</td>\n",
       "      <td>0.031441</td>\n",
       "      <td>0.027121</td>\n",
       "      <td>14500482.2</td>\n",
       "      <td>89</td>\n",
       "      <td>14012079.2</td>\n",
       "      <td>82.0</td>\n",
       "      <td>11.72</td>\n",
       "      <td>...</td>\n",
       "      <td>NaN</td>\n",
       "      <td>39.54598</td>\n",
       "      <td>NaN</td>\n",
       "      <td>39.84357</td>\n",
       "      <td>0.003072</td>\n",
       "      <td>35.29653</td>\n",
       "      <td>0.003072</td>\n",
       "      <td>39.36293</td>\n",
       "      <td>0.005618</td>\n",
       "      <td>42.1</td>\n",
       "    </tr>\n",
       "  </tbody>\n",
       "</table>\n",
       "<p>5 rows × 31 columns</p>\n",
       "</div>"
      ],
      "text/plain": [
       "       caldt    vwretd    vwretx    ewretd    ewretx      totval  totcnt  \\\n",
       "0 1926-01-01       NaN       NaN       NaN       NaN  15236829.5      89   \n",
       "1 1926-02-01 -0.001783 -0.003980  0.006457  0.003250  15277664.0      89   \n",
       "2 1926-03-01 -0.033296 -0.037876 -0.039979 -0.042451  14712894.9      89   \n",
       "3 1926-04-01 -0.057708 -0.062007 -0.067915 -0.073275  14012079.2      89   \n",
       "4 1926-05-01  0.038522  0.034856  0.031441  0.027121  14500482.2      89   \n",
       "\n",
       "       usdval  usdcnt  spindx  ...  b2ret     b2ind  b1ret     b1ind  \\\n",
       "0         NaN     NaN   12.46  ...    NaN  39.54598    NaN  39.84357   \n",
       "1  15236829.5    79.0   12.74  ...    NaN  39.54598    NaN  39.84357   \n",
       "2  15277664.0    81.0   12.18  ...    NaN  39.54598    NaN  39.84357   \n",
       "3  14712894.9    81.0   11.46  ...    NaN  39.54598    NaN  39.84357   \n",
       "4  14012079.2    82.0   11.72  ...    NaN  39.54598    NaN  39.84357   \n",
       "\n",
       "     t90ret    t90ind    t30ret    t30ind    cpiret  cpiind  \n",
       "0       NaN  34.83693       NaN  38.91082       NaN    42.1  \n",
       "1  0.004042  34.97774  0.002951  39.02565  0.000000    42.1  \n",
       "2  0.003237  35.09096  0.002768  39.13367  0.000000    42.1  \n",
       "3  0.002778  35.18843  0.002778  39.24238 -0.005587    41.9  \n",
       "4  0.003072  35.29653  0.003072  39.36293  0.005618    42.1  \n",
       "\n",
       "[5 rows x 31 columns]"
      ]
     },
     "execution_count": 142,
     "metadata": {},
     "output_type": "execute_result"
    }
   ],
   "source": [
    "# Convert 'caldt' to datetime in both dataframes\n",
    "sp_df['caldt'] = pd.to_datetime(sp_df['caldt']) + pd.tseries.offsets.MonthBegin()\n",
    "treasury_df['caldt'] = pd.to_datetime(treasury_df['caldt']) + pd.tseries.offsets.MonthBegin()\n",
    "df = pd.merge(sp_df, treasury_df, on='caldt', how='outer')\n",
    "print(f\"Number of rows: {df.shape[0]}, and number of columns: {df.shape[1]}\")\n",
    "print(f\"The columns names are {[column for column in df.columns]}\")\n",
    "df.head()"
   ]
  },
  {
   "cell_type": "code",
   "execution_count": 143,
   "metadata": {},
   "outputs": [
    {
     "data": {
      "text/plain": [
       "0.07564811340206185"
      ]
     },
     "execution_count": 143,
     "metadata": {},
     "output_type": "execute_result"
    }
   ],
   "source": [
    "df[\"vwretx\"].mean() * 12"
   ]
  },
  {
   "cell_type": "markdown",
   "metadata": {},
   "source": [
    "# Problem 1\n",
    "\n",
    "Consider the problem of forming an optimal portfolio consisting of various sets of assets. Suppose the investor has log utility. Use the sample means, variances, and covariances to form estimates of the \"true\" means and variance. Under the assumption that the sample means, variances, and covariance are the best estimates of the \"true\" means, variances, and covariances, calculate optimal portfolio weights for the various assets as a fraction of invested wealth. Also calculate the \"certainty equivalent\" value of the opportunity to invest in these assets.  Perform the calculations for for the following sets of assets:\n",
    "\n",
    "### Solution\n",
    "\n",
    "1. T-bills and the value-weighted SP500.\n",
    "\n",
    "Here, we have treasury bills, a riskless asset, and the value-weighted SP500, which is a risky asset. We have previously proves in class that log utility investors choose the growth-optimal portfolio, which maximizes internal rate of return, in this situation.\n",
    "$$x = \\frac{\\pi}{\\sigma^2}$$"
   ]
  },
  {
   "cell_type": "code",
   "execution_count": 144,
   "metadata": {},
   "outputs": [],
   "source": [
    "def growth_optimal_portfolio(risk_free_asset: pd.Series, risky_asset: pd.Series):\n",
    "    \"\"\"\n",
    "    Helper function that calculates growth optimal allocation in the risky asset and \n",
    "    certainty equivalent\n",
    "    \"\"\"\n",
    "    # Calculate risk free, risk premium, annual variance\n",
    "    rf = risk_free_asset.mean() * 12\n",
    "    pi = (risky_asset - risk_free_asset).mean() * 12\n",
    "    annual_variance = risky_asset.var() * 12\n",
    "    x = pi / annual_variance\n",
    "    certainty_equivalent = rf + x * pi\n",
    "    return x, certainty_equivalent"
   ]
  },
  {
   "cell_type": "code",
   "execution_count": 187,
   "metadata": {},
   "outputs": [
    {
     "name": "stdout",
     "output_type": "stream",
     "text": [
      "Optimal weights: equal=1.2399, T-bills=-0.2399\n",
      "Certainty equivalent = 0.08614995372424422\n"
     ]
    }
   ],
   "source": [
    "\"\"\"\n",
    "1. T-bills and value-weighted SP500\n",
    "\"\"\"\n",
    "x, certainty_equivalent = growth_optimal_portfolio(df[\"t30ret\"], df[\"vwretx\"])\n",
    "print(f\"Optimal weights: equal={round(x, 4)}, T-bills={round(1-x, 4)}\")\n",
    "print(f\"Certainty equivalent = {certainty_equivalent}\")"
   ]
  },
  {
   "cell_type": "markdown",
   "metadata": {},
   "source": [
    "2. T-bills and equally-weighted SP500.\n",
    "\n",
    "This example is very similar to the one above."
   ]
  },
  {
   "cell_type": "code",
   "execution_count": 188,
   "metadata": {},
   "outputs": [
    {
     "name": "stdout",
     "output_type": "stream",
     "text": [
      "Optimal weights: equal=1.2817, T-bills=-0.2817\n",
      "Certainty equivalent = 0.1208987525797573\n"
     ]
    }
   ],
   "source": [
    "\"\"\"\n",
    "2. T-bills and equally-weighted SP500\n",
    "\"\"\"\n",
    "(x), certainty_equivalent = growth_optimal_portfolio(df[\"t30ret\"], df[\"ewretx\"])\n",
    "print(f\"Optimal weights: equal={round(x, 4)}, T-bills={round(1-x, 4)}\")\n",
    "print(f\"Certainty equivalent = {certainty_equivalent}\")"
   ]
  },
  {
   "cell_type": "markdown",
   "metadata": {},
   "source": [
    "3. T-bills, the value-weighted SP500, and the equally-weighted SP500.\n",
    "\n"
   ]
  },
  {
   "cell_type": "code",
   "execution_count": 147,
   "metadata": {},
   "outputs": [],
   "source": [
    "def two_risky_assets(risk_free: pd.Series, asset: pd.Series, market: pd.Series):\n",
    "    rf = risk_free.mean() * 12\n",
    "    # Let asset be some asset and let market be the \"market index\"\n",
    "    # Drop nans in case we don't have data for either of the assets\n",
    "    df = pd.DataFrame({\"asset\": asset, \"market\": market}).dropna()\n",
    "    asset, market = df[\"asset\"], df[\"market\"]\n",
    "    # Finding alpha, beta, and variances\n",
    "    r_a, r_m = asset.mean() * 12, market.mean() * 12\n",
    "    cov_matrix = np.cov(asset, market)\n",
    "    beta_a = cov_matrix[0][1] / cov_matrix[1][1]\n",
    "    alpha_a = r_a - rf - beta_a * (r_m - rf)\n",
    "    var_a, var_m = asset.var() * 12, market.var() * 12\n",
    "    # Finding optimal weights\n",
    "    x_a = alpha_a / var_a\n",
    "    pi = (market - risk_free).mean() * 12\n",
    "    x_m = (pi / var_m) - beta_a * x_a    \n",
    "    certainty_equivalent = rf + x_a * (alpha_a + beta_a * pi) + x_m * pi\n",
    "    return (x_a, x_m, - 1 * (x_a + x_m - 1)), certainty_equivalent"
   ]
  },
  {
   "cell_type": "code",
   "execution_count": 189,
   "metadata": {},
   "outputs": [
    {
     "name": "stdout",
     "output_type": "stream",
     "text": [
      "Note that we are not leveraged: 1.0\n",
      "Optimal weights: value-weighted SP=-0.2788, equal-weighted SP=1.497, T-bills=-0.2181\n",
      "Certainty equivalent = 0.1236435067848684\n"
     ]
    }
   ],
   "source": [
    "\"\"\"\n",
    "3. T-bills, the value-weighted SP500, and the equally-weighted SP500.\n",
    "\"\"\"\n",
    "weights, certainty_equivalent = two_risky_assets(df[\"t30ret\"], df[\"vwretx\"], df[\"ewretx\"])\n",
    "(x_a, x_m, x_f) = weights\n",
    "print(f\"Note that we are not leveraged: {sum(weights)}\")\n",
    "# Printing out weights and expected portfolio returns\n",
    "print(f\"Optimal weights: value-weighted SP={round(x_a, 4)}, equal-weighted SP={round(x_m, 4)}, T-bills={round(x_f, 4)}\")\n",
    "print(f\"Certainty equivalent = {certainty_equivalent}\")"
   ]
  },
  {
   "cell_type": "markdown",
   "metadata": {},
   "source": [
    "4. T-bills, the value-weighted SP500, and UST 10-year notes."
   ]
  },
  {
   "cell_type": "code",
   "execution_count": 190,
   "metadata": {},
   "outputs": [
    {
     "name": "stdout",
     "output_type": "stream",
     "text": [
      "Note that we are not leveraged: 1.0\n",
      "Optimal weights: 10Y Note=3.4264, Value-Weighted SP500=2.1902, T-bills=-4.6166\n",
      "Certainty equivalent = 0.20297786344217783\n"
     ]
    }
   ],
   "source": [
    "\"\"\"\n",
    "4. T-bills, the value-weighted SP500, and the UST 10-year notes\n",
    "\"\"\"\n",
    "weights, certainty_equivalent = two_risky_assets(df[\"t30ret\"], df[\"b10ret\"], df[\"vwretx\"])\n",
    "(x_a, x_m, x_f) = weights\n",
    "print(f\"Note that we are not leveraged: {sum(weights)}\")\n",
    "# Printing out weights and expected portfolio returns\n",
    "print(f\"Optimal weights: 10Y Note={round(x_a, 4)}, Value-Weighted SP500={round(x_m, 4)}, T-bills={round(x_f, 4)}\")\n",
    "print(f\"Certainty equivalent = {certainty_equivalent}\")"
   ]
  },
  {
   "cell_type": "markdown",
   "metadata": {},
   "source": [
    "5. T-bills, the value-weighted SP500, the equally-weighted SP500, and UST 10-year notes."
   ]
  },
  {
   "cell_type": "code",
   "execution_count": 166,
   "metadata": {},
   "outputs": [],
   "source": [
    "def fsolve_svd(pi, sigma, rtol=1e-15, num_polish=1):\n",
    "    u, s, vt = np.linalg.svd(sigma, full_matrices=False, hermitian=True)\n",
    "    sinv = np.where(s > rtol, 1.00 / s, 0.00)\n",
    "    x = vt.T @ (sinv * (u.T @ pi))\n",
    "    # Polish solution:\n",
    "    for _ in range(num_polish):\n",
    "        x = x + vt.T @ (sinv * (u.T @ (pi - sigma @ x)))\n",
    "    return x\n",
    "\n",
    "def many_risky_assets(risk_free, assets: pd.DataFrame):\n",
    "    N = len(assets)\n",
    "    R, rf = assets.mean() * 12, risk_free.mean() * 12\n",
    "    pi = R - rf\n",
    "    sigma = np.cov(assets.dropna().T)\n",
    "    x = fsolve_svd(pi, sigma, rtol=1e-14, num_polish=2)\n",
    "    certainty_equivalent = rf + np.transpose(R - rf) @ x\n",
    "    return x, certainty_equivalent"
   ]
  },
  {
   "cell_type": "code",
   "execution_count": 192,
   "metadata": {},
   "outputs": [
    {
     "name": "stdout",
     "output_type": "stream",
     "text": [
      "Note that we are not leveraged: 0.9999999999999929\n",
      "Optimal weights: T-bills=-58.521054177093454, value=-68.73849690737207, equal=84.36570747085986, 10Y note=43.89384361360566\n",
      "Certainty equivalent = 1.8281816915007791\n"
     ]
    }
   ],
   "source": [
    "\"\"\"\n",
    "4. T-bills, the value-weighted SP500, equally-weighted SP500 and the UST 10-year notes\n",
    "\"\"\"\n",
    "rf = df[\"t30ret\"].mean() * 12\n",
    "weights, certainty_equivalent = many_risky_assets(df[\"t30ret\"], df[[\"vwretx\", \"ewretx\", \"b10ret\"]])\n",
    "weights = list(weights)\n",
    "weights.insert(0, 1 - sum(weights))\n",
    "print(f\"Note that we are not leveraged: {sum(weights)}\")\n",
    "# Printing out weights and expected portfolio returns\n",
    "print(f\"Optimal weights: T-bills={weights[0]}, value={weights[1]}, equal={weights[2]}, 10Y note={weights[3]}\")\n",
    "print(f\"Certainty equivalent = {certainty_equivalent + weights[0] * rf}\")"
   ]
  },
  {
   "cell_type": "markdown",
   "metadata": {},
   "source": [
    "# Problem 2\n",
    "\n",
    "1. Consider a linear regression of the excess return of the equally-weighted index on the excess return of the value-weighted index using the 30-day T-bill return as the risk-free rate: \n",
    "$$\n",
    "R_t^{\\text{ewretd}} - R_t^{\\text{t30}} = \\alpha + \\beta \\cdot (R_t^{\\text{vwretd}} - R_t^{\\text{t30}}) + \\epsilon .\n",
    "$$\n",
    "For a training dataset consisting of the first half of the data, calculate estimates of $\\alpha$ and $\\beta$ using OLS. Also calculate estimates of the means and variances of the two excess returns and the variance of the residuals. Construct a scatter plot of the two excess returns and show the fitted regression line on the same plot.  \n"
   ]
  },
  {
   "cell_type": "markdown",
   "metadata": {},
   "source": [
    "2. Calculate the approximately optimal portfolio and the Sharpe ratio for a hypothetical log-utility investor who uses the estimated regression coefficients, means, and variances as if they were the correct theoretical coefficients and variances.  Explain why the Sharpe ratio is likely to be a biased estimate of more realistic portfolio performance.\n"
   ]
  },
  {
   "cell_type": "markdown",
   "metadata": {},
   "source": [
    "3. Plot the realized Sharpe ratio and realized internal rate of return achieved by various portfolio investing fraction $x$ in the equally-weighted index and $1-x$ in the value-weighted index.\n",
    "\n",
    "Now consider how to use the second half of the data to test the model.  Predicting future returns is difficult. Specifically, the estimated mean return on the two indexes are subject to error because the return standard deviations each month are large relative to the monthly means. To apply the model to the test data, use for a predicted value of $\\alpha$ some fraction of the estimate of $\\alpha$ from the OLS regression. An reasonable but simplistic ad hoc value might be one-half the estimated $\\alpha$. Using one-half of the estimated $\\alpha$ is a simplistic, ad hoc way to approximate a Bayesian adjustment based on an initial belief that the unknown true $\\alpha$ has an expected value equal to of zero and the variance of this initial estimate is the same as the variance of the difference between the true $\\alpha$ and its OLS estimate. More generally, instead of using weights of one half, one might use weights inversely proportional to the variance of the errors of the prior estimate (of zero) and the variance of the error from the OLS estimate.\n",
    "\n",
    "Instead of also deflating the risk premium on the value-weighted index by a factor of one half, it would be appropriate not to deflate it at all if our initial expectation was that the risk premium was likely to be different from zero and probably positive. \n"
   ]
  },
  {
   "cell_type": "markdown",
   "metadata": {},
   "source": [
    "4. Using this \"conservative\" estimate of $\\alpha$ (deflated by one half), calculate the optimal portfolio for the log-utility investor, plot the returns on this portfolio, and calculate the achieved Sharpe ratio.\n"
   ]
  },
  {
   "cell_type": "markdown",
   "metadata": {},
   "source": [
    "5. Also calculate OLS estimates for the test dataset. Provide an intuitive discussion of whether deflating the estimates of $\\alpha$ by one-half was a good idea.\n"
   ]
  },
  {
   "cell_type": "markdown",
   "metadata": {},
   "source": [
    "6. (Extra Credit) Implement the methodology for this problem in a more sophisticated manner by using for any month a training dataset consisting of all previous months.\n",
    "\n",
    "Hints: Write the OLS regression as a function which can be called more than once. Let the beginning and ending dates used in the regression be function arguments. Also let the ad hoc Bayesian parameter (of one half) be a function argument."
   ]
  },
  {
   "cell_type": "markdown",
   "metadata": {},
   "source": [
    "# Problem 3\n",
    "\n",
    "This problem will consider how to use market information to forecast returns on a market index.\n",
    "\n",
    "Define three \"signals\" (dividend yield, past returns, volatility) which might be used to forecast returns on three market indexes (value-weighted, equally-weighted, and SP500):\n",
    "\n",
    "1. Construct the past year's dividend yield on each index as a monthly time series starting one year after the beginning of the data. (Hint: Each month's dividend yield can be approximated from the difference between returns with and without dividends; a simple approximation to the dividend yield is the sum of these differences.)\n",
    "\n",
    "2. Construct a series of past long-term returns over the previous ten years. (The return over the previous ten years is the amount one dollar invested in the index ten years previously would be worth at the current date.) Define the signal as the log of this past ten-year return. Explain why taking the log might be a sensible empirical strategy for this problem.\n",
    "\n",
    "3. Use the daily dataset to construct an estimate for each month volatility by using the same standard deviation of the previous month's daily log returns.\n",
    "\n",
    "4. Now let $x_t$ denote one of the three signals constructed in 1, 2, 3 above, and let $r_t$ denote the excess return on one of the three indexes. Let $f(x)$ denote some transformation of the data; here we will use $f(x) = \\frac{x - \\bar{x}}{\\sigma_x}$, where $\\bar{x}$ is the sample mean of $x_t$ and $\\sigma_x$ is the sample standard deviation of $x_t$. Consider the predictive regression \n",
    "$$\n",
    "r_t = \\alpha + \\beta \\cdot f(x_t) + \\epsilon_t\n",
    "$$\n",
    "As before, divide the entire time period into a training period and testing period of equal length, calculate OLS estimates for $\\alpha$ and $\\beta$.\n",
    "\n",
    "5. Calculate an optimal portfolio under the assumptions that the estimated parameters are correct versions of the true parameters. Plot the returns on this portfolio against the returns on the index itself for the training period. Obviously, your market-timing model will beat a buy and hold strategy in the training period it was estimated on. (Note: Since there are three index portfolios and three signals, you might present 9 plots in a 3 x 3 grid if you have time.)\n",
    "\n",
    "6. Now apply the model out of sample by dampening the estimate of $\\beta$ by some ad hoc factor, such as one half. Calculate the optimal portfolio for a log utility investor. Plot the returns achieved out of sample for the estimated optimal portfolio. Calculate the Sharpe ratio for the optimal portfolio. Plot the Sharpe ratio achieved in the test period when the investor holds a fraction $x$ of wealth in the optimal portfolio and a fraction $1-x$ in the (untimed) index. \n",
    "\n",
    "7. Tell a brief economic, financial, or behavioral story from why you obtain the results above.\n",
    "\n",
    "8. (Extra Credit) Generalize using past ten-year returns to using past returns over various different periods from one day to ten years. Do you find momentum over some periods and reversals over other periods.\n",
    "\n"
   ]
  }
 ],
 "metadata": {
  "kernelspec": {
   "display_name": "Python 3 (ipykernel)",
   "language": "python",
   "name": "python3"
  },
  "language_info": {
   "codemirror_mode": {
    "name": "ipython",
    "version": 3
   },
   "file_extension": ".py",
   "mimetype": "text/x-python",
   "name": "python",
   "nbconvert_exporter": "python",
   "pygments_lexer": "ipython3",
   "version": "3.8.11"
  }
 },
 "nbformat": 4,
 "nbformat_minor": 4
}
